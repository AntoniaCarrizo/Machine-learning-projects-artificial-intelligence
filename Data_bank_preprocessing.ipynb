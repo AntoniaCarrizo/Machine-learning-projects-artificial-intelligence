{
  "nbformat": 4,
  "nbformat_minor": 0,
  "metadata": {
    "colab": {
      "name": "Data bank preprocessing",
      "provenance": [],
      "collapsed_sections": [
        "mpB5QXxAAYbv",
        "fJAAo1mOSFL-",
        "L3zcbqluTAK-",
        "rDrVP7eVY06S",
        "NRDS3IDYdkcx",
        "VqDeHhBynvmS"
      ],
      "include_colab_link": true
    },
    "kernelspec": {
      "name": "python3",
      "display_name": "Python 3"
    }
  },
  "cells": [
    {
      "cell_type": "markdown",
      "metadata": {
        "id": "view-in-github",
        "colab_type": "text"
      },
      "source": [
        "<a href=\"https://colab.research.google.com/github/AntoniaCarrizo/data-preprocessing-artificial-intelligence/blob/main/Data_bank_preprocessing.ipynb\" target=\"_parent\"><img src=\"https://colab.research.google.com/assets/colab-badge.svg\" alt=\"Open In Colab\"/></a>"
      ]
    },
    {
      "cell_type": "markdown",
      "metadata": {
        "id": "D9uxIwa6gNC0"
      },
      "source": [
        "#Data bank preprocessing"
      ]
    },
    {
      "cell_type": "markdown",
      "metadata": {
        "id": "6IstH0_KrYvT"
      },
      "source": [
        "#We prepare the work environment"
      ]
    },
    {
      "cell_type": "markdown",
      "metadata": {
        "id": "0R8_pkkFefjl"
      },
      "source": [
        "First, we download the needed libraries:"
      ]
    },
    {
      "cell_type": "code",
      "metadata": {
        "id": "MK4DCMXJ32BB"
      },
      "source": [
        "!pip -q install numpy gensim scikit-learn"
      ],
      "execution_count": null,
      "outputs": []
    },
    {
      "cell_type": "markdown",
      "metadata": {
        "id": "23g4k0OWXdqx"
      },
      "source": [
        "We import the libraries we are going to use"
      ]
    },
    {
      "cell_type": "code",
      "metadata": {
        "id": "Iw7L8Yn9WNJd",
        "colab": {
          "base_uri": "https://localhost:8080/"
        },
        "outputId": "350efc68-97e6-4e13-fb40-5a6a96880756"
      },
      "source": [
        "import pandas as pd\n",
        "import numpy as np\n",
        "import pandas.util.testing as tm\n",
        "import matplotlib.pyplot as plt\n",
        "import seaborn as sn\n",
        "\n",
        "from pandas.api.types import is_numeric_dtype\n",
        "from scipy import stats\n",
        "from scipy.stats import chi2_contingency\n",
        "from sklearn import preprocessing\n",
        "from sklearn.preprocessing import MinMaxScaler, KBinsDiscretizer\n",
        "from sklearn.experimental import enable_iterative_imputer\n",
        "from sklearn.impute import IterativeImputer\n",
        "from sklearn.feature_selection import SelectKBest, chi2\n"
      ],
      "execution_count": null,
      "outputs": [
        {
          "output_type": "stream",
          "text": [
            "/usr/local/lib/python3.7/dist-packages/ipykernel_launcher.py:3: FutureWarning: pandas.util.testing is deprecated. Use the functions in the public API at pandas.testing instead.\n",
            "  This is separate from the ipykernel package so we can avoid doing imports until\n"
          ],
          "name": "stderr"
        }
      ]
    },
    {
      "cell_type": "markdown",
      "metadata": {
        "id": "C1PGyV9IrzR6"
      },
      "source": [
        "Mount drive:"
      ]
    },
    {
      "cell_type": "code",
      "metadata": {
        "id": "L2YsGEWX1GOF",
        "colab": {
          "base_uri": "https://localhost:8080/"
        },
        "outputId": "92de5c61-732d-4d2b-d4b4-8bc0b1d5f233"
      },
      "source": [
        "from google.colab import drive\n",
        "drive.mount('/content/drive')"
      ],
      "execution_count": null,
      "outputs": [
        {
          "output_type": "stream",
          "text": [
            "Mounted at /content/drive\n"
          ],
          "name": "stdout"
        }
      ]
    },
    {
      "cell_type": "markdown",
      "metadata": {
        "id": "oaMOlvv0XiTB"
      },
      "source": [
        "Ee load the file to be used:\n"
      ]
    },
    {
      "cell_type": "code",
      "metadata": {
        "id": "ZCFgq06dcIIq"
      },
      "source": [
        "ruta_data_set = '/content/drive/MyDrive/BASEFUGA2020_F.xls'\n",
        "data_set = pd.read_excel(ruta_data_set)"
      ],
      "execution_count": null,
      "outputs": []
    },
    {
      "cell_type": "markdown",
      "metadata": {
        "id": "j4iJce_accA_"
      },
      "source": [
        "# Exploratory Data Analysis\n"
      ]
    },
    {
      "cell_type": "markdown",
      "metadata": {
        "id": "_bVo4YFAiwIx"
      },
      "source": [
        "## Descriptive statistics"
      ]
    },
    {
      "cell_type": "markdown",
      "metadata": {
        "id": "xKi1wcpzKYtO"
      },
      "source": [
        "To analyze the behavior of the data of the numeric variables, we obtain the mean, standard deviation, minimum, maximum and quartiles.\n",
        "\n",
        "While for categorical variables we get the number of categories of the variable (unique), the mode (top) and the frequency of mode (freq)."
      ]
    },
    {
      "cell_type": "code",
      "metadata": {
        "id": "-e2wYMc-eEAw",
        "colab": {
          "base_uri": "https://localhost:8080/",
          "height": 410
        },
        "outputId": "fd70f80b-1ebe-49be-921a-6ce26eb8d5d8"
      },
      "source": [
        "data_set.describe(include='all') "
      ],
      "execution_count": null,
      "outputs": [
        {
          "output_type": "execute_result",
          "data": {
            "text/html": [
              "<div>\n",
              "<style scoped>\n",
              "    .dataframe tbody tr th:only-of-type {\n",
              "        vertical-align: middle;\n",
              "    }\n",
              "\n",
              "    .dataframe tbody tr th {\n",
              "        vertical-align: top;\n",
              "    }\n",
              "\n",
              "    .dataframe thead th {\n",
              "        text-align: right;\n",
              "    }\n",
              "</style>\n",
              "<table border=\"1\" class=\"dataframe\">\n",
              "  <thead>\n",
              "    <tr style=\"text-align: right;\">\n",
              "      <th></th>\n",
              "      <th>ID</th>\n",
              "      <th>GENERO</th>\n",
              "      <th>EDAD</th>\n",
              "      <th>NIV_EDUC</th>\n",
              "      <th>E_CIVIL</th>\n",
              "      <th>CIUDAD</th>\n",
              "      <th>D_Marzo</th>\n",
              "      <th>D_Abril</th>\n",
              "      <th>D_Mayo</th>\n",
              "      <th>D_Junio</th>\n",
              "      <th>D_Julio</th>\n",
              "      <th>D_Agosto</th>\n",
              "      <th>D_Septiembre</th>\n",
              "      <th>M_MOROSO</th>\n",
              "      <th>MONTO</th>\n",
              "      <th>SEGURO</th>\n",
              "      <th>FUGA</th>\n",
              "    </tr>\n",
              "  </thead>\n",
              "  <tbody>\n",
              "    <tr>\n",
              "      <th>count</th>\n",
              "      <td>2294.000000</td>\n",
              "      <td>2283</td>\n",
              "      <td>2292.000000</td>\n",
              "      <td>2281</td>\n",
              "      <td>2282</td>\n",
              "      <td>2290</td>\n",
              "      <td>2.293000e+03</td>\n",
              "      <td>2.293000e+03</td>\n",
              "      <td>2.294000e+03</td>\n",
              "      <td>2.294000e+03</td>\n",
              "      <td>2293.000000</td>\n",
              "      <td>2293.000000</td>\n",
              "      <td>2294.000000</td>\n",
              "      <td>2292.000000</td>\n",
              "      <td>2.293000e+03</td>\n",
              "      <td>2294</td>\n",
              "      <td>2294</td>\n",
              "    </tr>\n",
              "    <tr>\n",
              "      <th>unique</th>\n",
              "      <td>NaN</td>\n",
              "      <td>2</td>\n",
              "      <td>NaN</td>\n",
              "      <td>5</td>\n",
              "      <td>4</td>\n",
              "      <td>75</td>\n",
              "      <td>NaN</td>\n",
              "      <td>NaN</td>\n",
              "      <td>NaN</td>\n",
              "      <td>NaN</td>\n",
              "      <td>NaN</td>\n",
              "      <td>NaN</td>\n",
              "      <td>NaN</td>\n",
              "      <td>NaN</td>\n",
              "      <td>NaN</td>\n",
              "      <td>2</td>\n",
              "      <td>2</td>\n",
              "    </tr>\n",
              "    <tr>\n",
              "      <th>top</th>\n",
              "      <td>NaN</td>\n",
              "      <td>M</td>\n",
              "      <td>NaN</td>\n",
              "      <td>UNV</td>\n",
              "      <td>CAS</td>\n",
              "      <td>SANTIAGO</td>\n",
              "      <td>NaN</td>\n",
              "      <td>NaN</td>\n",
              "      <td>NaN</td>\n",
              "      <td>NaN</td>\n",
              "      <td>NaN</td>\n",
              "      <td>NaN</td>\n",
              "      <td>NaN</td>\n",
              "      <td>NaN</td>\n",
              "      <td>NaN</td>\n",
              "      <td>NO</td>\n",
              "      <td>NOFUGA</td>\n",
              "    </tr>\n",
              "    <tr>\n",
              "      <th>freq</th>\n",
              "      <td>NaN</td>\n",
              "      <td>1385</td>\n",
              "      <td>NaN</td>\n",
              "      <td>946</td>\n",
              "      <td>1429</td>\n",
              "      <td>1389</td>\n",
              "      <td>NaN</td>\n",
              "      <td>NaN</td>\n",
              "      <td>NaN</td>\n",
              "      <td>NaN</td>\n",
              "      <td>NaN</td>\n",
              "      <td>NaN</td>\n",
              "      <td>NaN</td>\n",
              "      <td>NaN</td>\n",
              "      <td>NaN</td>\n",
              "      <td>1816</td>\n",
              "      <td>1157</td>\n",
              "    </tr>\n",
              "    <tr>\n",
              "      <th>mean</th>\n",
              "      <td>1147.500000</td>\n",
              "      <td>NaN</td>\n",
              "      <td>43.551920</td>\n",
              "      <td>NaN</td>\n",
              "      <td>NaN</td>\n",
              "      <td>NaN</td>\n",
              "      <td>1.530874e+05</td>\n",
              "      <td>2.726998e+05</td>\n",
              "      <td>1.032315e+05</td>\n",
              "      <td>1.899761e+05</td>\n",
              "      <td>567.093328</td>\n",
              "      <td>3580.321413</td>\n",
              "      <td>1940.639494</td>\n",
              "      <td>1.250436</td>\n",
              "      <td>3.477824e+06</td>\n",
              "      <td>NaN</td>\n",
              "      <td>NaN</td>\n",
              "    </tr>\n",
              "    <tr>\n",
              "      <th>std</th>\n",
              "      <td>662.365081</td>\n",
              "      <td>NaN</td>\n",
              "      <td>8.875511</td>\n",
              "      <td>NaN</td>\n",
              "      <td>NaN</td>\n",
              "      <td>NaN</td>\n",
              "      <td>4.982859e+05</td>\n",
              "      <td>4.024124e+05</td>\n",
              "      <td>8.706984e+05</td>\n",
              "      <td>6.705042e+05</td>\n",
              "      <td>1075.500117</td>\n",
              "      <td>8944.021261</td>\n",
              "      <td>9868.816840</td>\n",
              "      <td>0.752197</td>\n",
              "      <td>2.293166e+06</td>\n",
              "      <td>NaN</td>\n",
              "      <td>NaN</td>\n",
              "    </tr>\n",
              "    <tr>\n",
              "      <th>min</th>\n",
              "      <td>1.000000</td>\n",
              "      <td>NaN</td>\n",
              "      <td>-50.000000</td>\n",
              "      <td>NaN</td>\n",
              "      <td>NaN</td>\n",
              "      <td>NaN</td>\n",
              "      <td>0.000000e+00</td>\n",
              "      <td>0.000000e+00</td>\n",
              "      <td>0.000000e+00</td>\n",
              "      <td>0.000000e+00</td>\n",
              "      <td>0.000000</td>\n",
              "      <td>0.000000</td>\n",
              "      <td>0.000000</td>\n",
              "      <td>0.000000</td>\n",
              "      <td>5.000000e+05</td>\n",
              "      <td>NaN</td>\n",
              "      <td>NaN</td>\n",
              "    </tr>\n",
              "    <tr>\n",
              "      <th>25%</th>\n",
              "      <td>574.250000</td>\n",
              "      <td>NaN</td>\n",
              "      <td>39.000000</td>\n",
              "      <td>NaN</td>\n",
              "      <td>NaN</td>\n",
              "      <td>NaN</td>\n",
              "      <td>0.000000e+00</td>\n",
              "      <td>1.759600e+04</td>\n",
              "      <td>0.000000e+00</td>\n",
              "      <td>0.000000e+00</td>\n",
              "      <td>7.000000</td>\n",
              "      <td>0.000000</td>\n",
              "      <td>0.000000</td>\n",
              "      <td>1.000000</td>\n",
              "      <td>1.700000e+06</td>\n",
              "      <td>NaN</td>\n",
              "      <td>NaN</td>\n",
              "    </tr>\n",
              "    <tr>\n",
              "      <th>50%</th>\n",
              "      <td>1147.500000</td>\n",
              "      <td>NaN</td>\n",
              "      <td>44.000000</td>\n",
              "      <td>NaN</td>\n",
              "      <td>NaN</td>\n",
              "      <td>NaN</td>\n",
              "      <td>0.000000e+00</td>\n",
              "      <td>1.341700e+05</td>\n",
              "      <td>0.000000e+00</td>\n",
              "      <td>5.502000e+03</td>\n",
              "      <td>146.000000</td>\n",
              "      <td>0.000000</td>\n",
              "      <td>56.000000</td>\n",
              "      <td>1.000000</td>\n",
              "      <td>2.600000e+06</td>\n",
              "      <td>NaN</td>\n",
              "      <td>NaN</td>\n",
              "    </tr>\n",
              "    <tr>\n",
              "      <th>75%</th>\n",
              "      <td>1720.750000</td>\n",
              "      <td>NaN</td>\n",
              "      <td>50.000000</td>\n",
              "      <td>NaN</td>\n",
              "      <td>NaN</td>\n",
              "      <td>NaN</td>\n",
              "      <td>0.000000e+00</td>\n",
              "      <td>3.745150e+05</td>\n",
              "      <td>0.000000e+00</td>\n",
              "      <td>1.749060e+05</td>\n",
              "      <td>630.000000</td>\n",
              "      <td>1493.000000</td>\n",
              "      <td>497.250000</td>\n",
              "      <td>2.000000</td>\n",
              "      <td>4.800000e+06</td>\n",
              "      <td>NaN</td>\n",
              "      <td>NaN</td>\n",
              "    </tr>\n",
              "    <tr>\n",
              "      <th>max</th>\n",
              "      <td>2294.000000</td>\n",
              "      <td>NaN</td>\n",
              "      <td>130.000000</td>\n",
              "      <td>NaN</td>\n",
              "      <td>NaN</td>\n",
              "      <td>NaN</td>\n",
              "      <td>9.458161e+06</td>\n",
              "      <td>5.495534e+06</td>\n",
              "      <td>1.839696e+07</td>\n",
              "      <td>2.063461e+07</td>\n",
              "      <td>11187.000000</td>\n",
              "      <td>88837.000000</td>\n",
              "      <td>249652.000000</td>\n",
              "      <td>3.000000</td>\n",
              "      <td>8.000000e+06</td>\n",
              "      <td>NaN</td>\n",
              "      <td>NaN</td>\n",
              "    </tr>\n",
              "  </tbody>\n",
              "</table>\n",
              "</div>"
            ],
            "text/plain": [
              "                 ID GENERO         EDAD  ...         MONTO SEGURO    FUGA\n",
              "count   2294.000000   2283  2292.000000  ...  2.293000e+03   2294    2294\n",
              "unique          NaN      2          NaN  ...           NaN      2       2\n",
              "top             NaN      M          NaN  ...           NaN     NO  NOFUGA\n",
              "freq            NaN   1385          NaN  ...           NaN   1816    1157\n",
              "mean    1147.500000    NaN    43.551920  ...  3.477824e+06    NaN     NaN\n",
              "std      662.365081    NaN     8.875511  ...  2.293166e+06    NaN     NaN\n",
              "min        1.000000    NaN   -50.000000  ...  5.000000e+05    NaN     NaN\n",
              "25%      574.250000    NaN    39.000000  ...  1.700000e+06    NaN     NaN\n",
              "50%     1147.500000    NaN    44.000000  ...  2.600000e+06    NaN     NaN\n",
              "75%     1720.750000    NaN    50.000000  ...  4.800000e+06    NaN     NaN\n",
              "max     2294.000000    NaN   130.000000  ...  8.000000e+06    NaN     NaN\n",
              "\n",
              "[11 rows x 17 columns]"
            ]
          },
          "metadata": {},
          "execution_count": 7
        }
      ]
    },
    {
      "cell_type": "code",
      "metadata": {
        "id": "irro93bzeqco",
        "colab": {
          "base_uri": "https://localhost:8080/"
        },
        "outputId": "c11fefcd-dfe1-46a9-bafd-e78ed05c6885"
      },
      "source": [
        "1print(data_set)"
      ],
      "execution_count": null,
      "outputs": [
        {
          "output_type": "stream",
          "text": [
            "      customer   Age  Employ  Address  ...  OthDebt  Education  Nationality  Default\n",
            "0        10012  28.0       7      2.0  ...     4.80        Med            N        N\n",
            "1        10017  64.0      34     17.0  ...    12.00       Posg            N        N\n",
            "2        10030  40.0      20     12.0  ...     1.89        Bas            N        N\n",
            "3        10039  30.0      11      3.0  ...     7.56        Bas            N        N\n",
            "4        10069  25.0       2      2.0  ...     5.96        Bas            N        S\n",
            "...        ...   ...     ...      ...  ...      ...        ...          ...      ...\n",
            "1195    372496  24.0       1      2.0  ...     3.68     SupCom            N        S\n",
            "1196    372514  72.0      48     30.0  ...    48.85        Med            N        N\n",
            "1197    372545  51.0       9     19.0  ...    10.48        Med            N        N\n",
            "1198    372551  57.0      31     23.0  ...    13.14       Posg            N        N\n",
            "1199    372571  33.0       3      9.0  ...     2.41     SupInc            N        N\n",
            "\n",
            "[1200 rows x 11 columns]\n"
          ],
          "name": "stdout"
        }
      ]
    },
    {
      "cell_type": "markdown",
      "metadata": {
        "id": "_Gs9dRR_iqaS"
      },
      "source": [
        "We count the lost values of each variable to see if there is any null value."
      ]
    },
    {
      "cell_type": "code",
      "metadata": {
        "id": "AWDymVEwfAkY",
        "colab": {
          "base_uri": "https://localhost:8080/"
        },
        "outputId": "50931af7-8f10-4375-cdc2-9af43b42dc96"
      },
      "source": [
        "data_set.isnull().sum()"
      ],
      "execution_count": null,
      "outputs": [
        {
          "output_type": "execute_result",
          "data": {
            "text/plain": [
              "customer       0\n",
              "Age            2\n",
              "Employ         0\n",
              "Address        1\n",
              "Income         3\n",
              "Debtinc        1\n",
              "Creddebt       0\n",
              "OthDebt        0\n",
              "Education      1\n",
              "Nationality    0\n",
              "Default        0\n",
              "dtype: int64"
            ]
          },
          "metadata": {},
          "execution_count": 20
        }
      ]
    },
    {
      "cell_type": "markdown",
      "metadata": {
        "id": "U40OZp-Gj6W5"
      },
      "source": [
        "## Charts"
      ]
    },
    {
      "cell_type": "markdown",
      "metadata": {
        "id": "0-aNSUq_aLql"
      },
      "source": [
        "Charts allow us to identify bivariate patterns, visualize data and outliers. Some examples of them are shown below"
      ]
    },
    {
      "cell_type": "markdown",
      "metadata": {
        "id": "Zd-4YbVroGGC"
      },
      "source": [
        "Standard Histogram"
      ]
    },
    {
      "cell_type": "code",
      "metadata": {
        "id": "jP3JI8Wagb-F",
        "colab": {
          "base_uri": "https://localhost:8080/",
          "height": 413
        },
        "outputId": "3d6b7b85-27be-42f5-fa31-e368983c9d2c"
      },
      "source": [
        "data_set['Age'].value_counts().sort_index().plot.bar(figsize=(10,6))\n",
        "plt.xlabel('Age')\n",
        "plt.show()"
      ],
      "execution_count": null,
      "outputs": [
        {
          "output_type": "display_data",
          "data": {
            "image/png": "[encoded data removed]",
            "text/plain": [
              "<Figure size 720x432 with 1 Axes>"
            ]
          },
          "metadata": {
            "needs_background": "light"
          }
        }
      ]
    },
    {
      "cell_type": "markdown",
      "metadata": {
        "id": "kOMldBi8oJ0U"
      },
      "source": [
        "Histogram of points to display outliers"
      ]
    },
    {
      "cell_type": "code",
      "metadata": {
        "id": "JP2Hxpw8kACn",
        "colab": {
          "base_uri": "https://localhost:8080/",
          "height": 279
        },
        "outputId": "0d0e972f-e04c-4386-dfd9-d98946d3b8af"
      },
      "source": [
        "sn.stripplot(x='Income', data=data_set) \n",
        "plt.show()"
      ],
      "execution_count": null,
      "outputs": [
        {
          "output_type": "display_data",
          "data": {
            "image/png": "[encoded data removed]",
            "text/plain": [
              "<Figure size 432x288 with 1 Axes>"
            ]
          },
          "metadata": {
            "needs_background": "light"
          }
        }
      ]
    },
    {
      "cell_type": "markdown",
      "metadata": {
        "id": "q71jKudqoUvi"
      },
      "source": [
        "Color Histogram, to see relevance of the target variable in the values of a variable."
      ]
    },
    {
      "cell_type": "code",
      "metadata": {
        "id": "g115VKrTn3nh",
        "colab": {
          "base_uri": "https://localhost:8080/",
          "height": 576
        },
        "outputId": "b3e49667-09f2-49c2-be22-182b04e82ea1"
      },
      "source": [
        "data_set.groupby(['Employ', 'Default']).size().unstack().plot.bar(stacked=True) \n",
        "plt.xscale('linear')\n",
        "plt.show()\n",
        "data_set.groupby(['Education', 'Default']).size().unstack().plot.bar(stacked=True)\n",
        "plt.show()\n"
      ],
      "execution_count": null,
      "outputs": [
        {
          "output_type": "display_data",
          "data": {
            "image/png": "[encoded data removed]",
            "text/plain": [
              "<Figure size 432x288 with 1 Axes>"
            ]
          },
          "metadata": {
            "needs_background": "light"
          }
        },
        {
          "output_type": "display_data",
          "data": {
            "image/png": "[encoded data removed]",
            "text/plain": [
              "<Figure size 432x288 with 1 Axes>"
            ]
          },
          "metadata": {
            "needs_background": "light"
          }
        }
      ]
    },
    {
      "cell_type": "markdown",
      "metadata": {
        "id": "Lvol9kZOohwz"
      },
      "source": [
        "We can also make the histogram color with proportions."
      ]
    },
    {
      "cell_type": "code",
      "metadata": {
        "id": "Bn-OESApolT9",
        "colab": {
          "base_uri": "https://localhost:8080/",
          "height": 576
        },
        "outputId": "9269413d-e166-4d8c-d2d2-1fd791a5eb82"
      },
      "source": [
        "data_set.groupby(['Employ', 'Default']).size().groupby(level=0).apply(lambda x: 100 * x / x.sum()).unstack().plot.bar(stacked=True) \n",
        "plt.xscale('linear')\n",
        "plt.show()\n",
        "data_set.groupby(['Education', 'Default']).size().groupby(level=0).apply(lambda x: 100 * x / x.sum()).unstack().plot.bar(stacked=True) \n",
        "plt.show()"
      ],
      "execution_count": null,
      "outputs": [
        {
          "output_type": "display_data",
          "data": {
            "image/png": "[encoded data removed]",
            "text/plain": [
              "<Figure size 432x288 with 1 Axes>"
            ]
          },
          "metadata": {
            "needs_background": "light"
          }
        },
        {
          "output_type": "display_data",
          "data": {
            "image/png": "[encoded data removed]",
            "text/plain": [
              "<Figure size 432x288 with 1 Axes>"
            ]
          },
          "metadata": {
            "needs_background": "light"
          }
        }
      ]
    },
    {
      "cell_type": "markdown",
      "metadata": {
        "id": "DLLJMwtqoo1G"
      },
      "source": [
        "Box plot"
      ]
    },
    {
      "cell_type": "code",
      "metadata": {
        "id": "kLErNVJhn-P3",
        "colab": {
          "base_uri": "https://localhost:8080/",
          "height": 279
        },
        "outputId": "ccaf39e9-5ba3-4b51-8461-2b540b306119"
      },
      "source": [
        "sn.boxplot(x=\"Default\", y=\"Employ\", data=data_set) \n",
        "plt.show()"
      ],
      "execution_count": null,
      "outputs": [
        {
          "output_type": "display_data",
          "data": {
            "image/png": "[encoded data removed]",
            "text/plain": [
              "<Figure size 432x288 with 1 Axes>"
            ]
          },
          "metadata": {
            "needs_background": "light"
          }
        }
      ]
    },
    {
      "cell_type": "markdown",
      "metadata": {
        "id": "WLQamIXNosvl"
      },
      "source": [
        "Point chart to see redundancy between two variables"
      ]
    },
    {
      "cell_type": "code",
      "metadata": {
        "id": "s4ZW5t1_oNqz",
        "colab": {
          "base_uri": "https://localhost:8080/",
          "height": 279
        },
        "outputId": "b96cbcf7-2665-46fd-a40f-f17905ee0fa4"
      },
      "source": [
        "data_set.plot(kind='scatter', x='Employ', y='Age', grid=True)\n",
        "plt.show()"
      ],
      "execution_count": null,
      "outputs": [
        {
          "output_type": "display_data",
          "data": {
            "image/png": "[encoded data removed]",
            "text/plain": [
              "<Figure size 432x288 with 1 Axes>"
            ]
          },
          "metadata": {
            "needs_background": "light"
          }
        }
      ]
    },
    {
      "cell_type": "markdown",
      "metadata": {
        "id": "aeAnT-J28loU"
      },
      "source": [
        "\n",
        "\n",
        "# Data cleansing"
      ]
    },
    {
      "cell_type": "markdown",
      "metadata": {
        "id": "Tn1caDVnLbxr"
      },
      "source": [
        "Data cleansing is to eliminate the inconsistencies found in exploratory analysis of data, such as lost values and atypical values, so that the database can work without altering the results.\n",
        "\n",
        "First we declare outliers as lost values (inconsistencies) and then work them (imputating lost values)."
      ]
    },
    {
      "cell_type": "markdown",
      "metadata": {
        "id": "1aiiWpzzFXpB"
      },
      "source": [
        "## Inconsistencies"
      ]
    },
    {
      "cell_type": "markdown",
      "metadata": {
        "id": "5O8_9NQi8y4A"
      },
      "source": [
        "We declare values that are out of range as lost values, so that we can identify them."
      ]
    },
    {
      "cell_type": "code",
      "metadata": {
        "id": "ezsdQWev8rgs"
      },
      "source": [
        "data_set.loc[data_set['Income'] < 0, ['Income']] = np.nan\n",
        "data_set.loc[data_set['Age'] > 100, ['Age']] = np.nan"
      ],
      "execution_count": null,
      "outputs": []
    },
    {
      "cell_type": "markdown",
      "metadata": {
        "id": "mpB5QXxAAYbv"
      },
      "source": [
        "## Imputing lost values"
      ]
    },
    {
      "cell_type": "markdown",
      "metadata": {
        "id": "RTb1VGraMxcj"
      },
      "source": [
        "Now we have to work these lost values, for that we have 3 alternatives:"
      ]
    },
    {
      "cell_type": "markdown",
      "metadata": {
        "id": "lpIa57QpAlOO"
      },
      "source": [
        "**Option 1: Mean/mode Replacement**"
      ]
    },
    {
      "cell_type": "markdown",
      "metadata": {
        "id": "XSy6ELlxPQWY"
      },
      "source": [
        "We use this alternative when the lost values are less than 5% of the total data and consist of replacing the lost values with the mean/mode."
      ]
    },
    {
      "cell_type": "markdown",
      "metadata": {
        "id": "Wg9581XzMesc"
      },
      "source": [
        "We replace with the mean in the numerical variables"
      ]
    },
    {
      "cell_type": "code",
      "metadata": {
        "id": "5ipADnG9AiDU"
      },
      "source": [
        "data_set['Age'].fillna(data_set['Age'].median(skipna=True), inplace=True)\n",
        "data_set['Address'].fillna(data_set['Address'].median(skipna=True), inplace=True)\n",
        "data_set['Income'].fillna(data_set['Income'].mean(skipna=True), inplace=True)\n",
        "data_set['Debtinc'].fillna(data_set['Debtinc'].mean(skipna=True), inplace=True)"
      ],
      "execution_count": null,
      "outputs": []
    },
    {
      "cell_type": "markdown",
      "metadata": {
        "id": "m20NaPfUMkez"
      },
      "source": [
        "We replace with mode in categorical variables"
      ]
    },
    {
      "cell_type": "code",
      "metadata": {
        "id": "njxO-JKHFI_H"
      },
      "source": [
        "mode = data_set['Education'].mode()\n",
        "data_set['Education'].fillna(mode[0], inplace=True)"
      ],
      "execution_count": null,
      "outputs": []
    },
    {
      "cell_type": "markdown",
      "metadata": {
        "id": "4MMD-7cePiWe"
      },
      "source": [
        "But this has the disadvantage that we alter the results."
      ]
    },
    {
      "cell_type": "markdown",
      "metadata": {
        "id": "ntPKaLUqJxYV"
      },
      "source": [
        "**Option 2: Elimination of cases**"
      ]
    },
    {
      "cell_type": "markdown",
      "metadata": {
        "id": "yvjsmP5PMtoN"
      },
      "source": [
        "We also use this alternative when the lost values are less than 5% of the total data and consists of deleting all rows where there is any null value. It does not alter the results but loses the information of the other variables in that row."
      ]
    },
    {
      "cell_type": "code",
      "metadata": {
        "id": "Ytw7yIJwKOSM"
      },
      "source": [
        "data_set = data_set.dropna(axis=0, how='any')"
      ],
      "execution_count": null,
      "outputs": []
    },
    {
      "cell_type": "markdown",
      "metadata": {
        "id": "CMRDU95aMO8P"
      },
      "source": [
        "**Option 3: Multiple imputation**"
      ]
    },
    {
      "cell_type": "markdown",
      "metadata": {
        "id": "rMJFxdboQKeI"
      },
      "source": [
        "Multiple imputation consists of simulating the behavior of the data and from this replacing the values lost by the simulated data. The latter alternative is used when the lost values are less than 30% of the total data."
      ]
    },
    {
      "cell_type": "code",
      "metadata": {
        "id": "hBwu-fZ6MXTf"
      },
      "source": [
        "imp = IterativeImputer(max_iter=10, random_state=12700)\n",
        "num = data_set.select_dtypes(include=[\"number\"])\n",
        "cat = data_set.select_dtypes(exclude=[\"number\"])\n",
        "names = num.columns\n",
        "num = pd.DataFrame(imp.fit_transform(num))\n",
        "num.columns = names\n",
        "data_set = pd.concat([num, cat], axis=1)"
      ],
      "execution_count": null,
      "outputs": []
    },
    {
      "cell_type": "markdown",
      "metadata": {
        "id": "0j3BJ42FEHVu"
      },
      "source": [
        "We confirm that there are no missing values in the database"
      ]
    },
    {
      "cell_type": "code",
      "metadata": {
        "id": "cX0WL1H0EGki",
        "colab": {
          "base_uri": "https://localhost:8080/"
        },
        "outputId": "db10528f-3084-4d31-cbb9-41d544182786"
      },
      "source": [
        "data_set.isnull().sum()"
      ],
      "execution_count": null,
      "outputs": [
        {
          "output_type": "execute_result",
          "data": {
            "text/plain": [
              "customer       0\n",
              "Age            0\n",
              "Employ         0\n",
              "Address        0\n",
              "Income         0\n",
              "Debtinc        0\n",
              "Creddebt       0\n",
              "OthDebt        0\n",
              "Education      0\n",
              "Nationality    0\n",
              "Default        0\n",
              "dtype: int64"
            ]
          },
          "metadata": {},
          "execution_count": 25
        }
      ]
    },
    {
      "cell_type": "markdown",
      "metadata": {
        "id": "dTNWJgz4M_gc"
      },
      "source": [
        "We delete the customer variable because it is not necessary for the model"
      ]
    },
    {
      "cell_type": "code",
      "metadata": {
        "id": "HGgckHoBEgqQ",
        "colab": {
          "base_uri": "https://localhost:8080/",
          "height": 586
        },
        "outputId": "493cea0d-9098-4ed8-b210-b35d112e3741"
      },
      "source": [
        "del data_set['customer']"
      ],
      "execution_count": null,
      "outputs": [
        {
          "output_type": "error",
          "ename": "KeyError",
          "evalue": "ignored",
          "traceback": [
            "\u001b[0;31m---------------------------------------------------------------------------\u001b[0m",
            "\u001b[0;31mKeyError\u001b[0m                                  Traceback (most recent call last)",
            "\u001b[0;32m/usr/local/lib/python3.7/dist-packages/pandas/core/indexes/base.py\u001b[0m in \u001b[0;36mget_loc\u001b[0;34m(self, key, method, tolerance)\u001b[0m\n\u001b[1;32m   2897\u001b[0m             \u001b[0;32mtry\u001b[0m\u001b[0;34m:\u001b[0m\u001b[0;34m\u001b[0m\u001b[0;34m\u001b[0m\u001b[0m\n\u001b[0;32m-> 2898\u001b[0;31m                 \u001b[0;32mreturn\u001b[0m \u001b[0mself\u001b[0m\u001b[0;34m.\u001b[0m\u001b[0m_engine\u001b[0m\u001b[0;34m.\u001b[0m\u001b[0mget_loc\u001b[0m\u001b[0;34m(\u001b[0m\u001b[0mcasted_key\u001b[0m\u001b[0;34m)\u001b[0m\u001b[0;34m\u001b[0m\u001b[0;34m\u001b[0m\u001b[0m\n\u001b[0m\u001b[1;32m   2899\u001b[0m             \u001b[0;32mexcept\u001b[0m \u001b[0mKeyError\u001b[0m \u001b[0;32mas\u001b[0m \u001b[0merr\u001b[0m\u001b[0;34m:\u001b[0m\u001b[0;34m\u001b[0m\u001b[0;34m\u001b[0m\u001b[0m\n",
            "\u001b[0;32mpandas/_libs/index.pyx\u001b[0m in \u001b[0;36mpandas._libs.index.IndexEngine.get_loc\u001b[0;34m()\u001b[0m\n",
            "\u001b[0;32mpandas/_libs/index.pyx\u001b[0m in \u001b[0;36mpandas._libs.index.IndexEngine.get_loc\u001b[0;34m()\u001b[0m\n",
            "\u001b[0;32mpandas/_libs/hashtable_class_helper.pxi\u001b[0m in \u001b[0;36mpandas._libs.hashtable.PyObjectHashTable.get_item\u001b[0;34m()\u001b[0m\n",
            "\u001b[0;32mpandas/_libs/hashtable_class_helper.pxi\u001b[0m in \u001b[0;36mpandas._libs.hashtable.PyObjectHashTable.get_item\u001b[0;34m()\u001b[0m\n",
            "\u001b[0;31mKeyError\u001b[0m: 'customer'",
            "\nThe above exception was the direct cause of the following exception:\n",
            "\u001b[0;31mKeyError\u001b[0m                                  Traceback (most recent call last)",
            "\u001b[0;32m<ipython-input-27-e0330b7879b9>\u001b[0m in \u001b[0;36m<module>\u001b[0;34m()\u001b[0m\n\u001b[0;32m----> 1\u001b[0;31m \u001b[0;32mdel\u001b[0m \u001b[0mdata_set\u001b[0m\u001b[0;34m[\u001b[0m\u001b[0;34m'customer'\u001b[0m\u001b[0;34m]\u001b[0m\u001b[0;34m\u001b[0m\u001b[0;34m\u001b[0m\u001b[0m\n\u001b[0m",
            "\u001b[0;32m/usr/local/lib/python3.7/dist-packages/pandas/core/generic.py\u001b[0m in \u001b[0;36m__delitem__\u001b[0;34m(self, key)\u001b[0m\n\u001b[1;32m   3711\u001b[0m             \u001b[0;31m# there was no match, this call should raise the appropriate\u001b[0m\u001b[0;34m\u001b[0m\u001b[0;34m\u001b[0m\u001b[0;34m\u001b[0m\u001b[0m\n\u001b[1;32m   3712\u001b[0m             \u001b[0;31m# exception:\u001b[0m\u001b[0;34m\u001b[0m\u001b[0;34m\u001b[0m\u001b[0;34m\u001b[0m\u001b[0m\n\u001b[0;32m-> 3713\u001b[0;31m             \u001b[0mloc\u001b[0m \u001b[0;34m=\u001b[0m \u001b[0mself\u001b[0m\u001b[0;34m.\u001b[0m\u001b[0maxes\u001b[0m\u001b[0;34m[\u001b[0m\u001b[0;34m-\u001b[0m\u001b[0;36m1\u001b[0m\u001b[0;34m]\u001b[0m\u001b[0;34m.\u001b[0m\u001b[0mget_loc\u001b[0m\u001b[0;34m(\u001b[0m\u001b[0mkey\u001b[0m\u001b[0;34m)\u001b[0m\u001b[0;34m\u001b[0m\u001b[0;34m\u001b[0m\u001b[0m\n\u001b[0m\u001b[1;32m   3714\u001b[0m             \u001b[0mself\u001b[0m\u001b[0;34m.\u001b[0m\u001b[0m_mgr\u001b[0m\u001b[0;34m.\u001b[0m\u001b[0midelete\u001b[0m\u001b[0;34m(\u001b[0m\u001b[0mloc\u001b[0m\u001b[0;34m)\u001b[0m\u001b[0;34m\u001b[0m\u001b[0;34m\u001b[0m\u001b[0m\n\u001b[1;32m   3715\u001b[0m \u001b[0;34m\u001b[0m\u001b[0m\n",
            "\u001b[0;32m/usr/local/lib/python3.7/dist-packages/pandas/core/indexes/base.py\u001b[0m in \u001b[0;36mget_loc\u001b[0;34m(self, key, method, tolerance)\u001b[0m\n\u001b[1;32m   2898\u001b[0m                 \u001b[0;32mreturn\u001b[0m \u001b[0mself\u001b[0m\u001b[0;34m.\u001b[0m\u001b[0m_engine\u001b[0m\u001b[0;34m.\u001b[0m\u001b[0mget_loc\u001b[0m\u001b[0;34m(\u001b[0m\u001b[0mcasted_key\u001b[0m\u001b[0;34m)\u001b[0m\u001b[0;34m\u001b[0m\u001b[0;34m\u001b[0m\u001b[0m\n\u001b[1;32m   2899\u001b[0m             \u001b[0;32mexcept\u001b[0m \u001b[0mKeyError\u001b[0m \u001b[0;32mas\u001b[0m \u001b[0merr\u001b[0m\u001b[0;34m:\u001b[0m\u001b[0;34m\u001b[0m\u001b[0;34m\u001b[0m\u001b[0m\n\u001b[0;32m-> 2900\u001b[0;31m                 \u001b[0;32mraise\u001b[0m \u001b[0mKeyError\u001b[0m\u001b[0;34m(\u001b[0m\u001b[0mkey\u001b[0m\u001b[0;34m)\u001b[0m \u001b[0;32mfrom\u001b[0m \u001b[0merr\u001b[0m\u001b[0;34m\u001b[0m\u001b[0;34m\u001b[0m\u001b[0m\n\u001b[0m\u001b[1;32m   2901\u001b[0m \u001b[0;34m\u001b[0m\u001b[0m\n\u001b[1;32m   2902\u001b[0m         \u001b[0;32mif\u001b[0m \u001b[0mtolerance\u001b[0m \u001b[0;32mis\u001b[0m \u001b[0;32mnot\u001b[0m \u001b[0;32mNone\u001b[0m\u001b[0;34m:\u001b[0m\u001b[0;34m\u001b[0m\u001b[0;34m\u001b[0m\u001b[0m\n",
            "\u001b[0;31mKeyError\u001b[0m: 'customer'"
          ]
        }
      ]
    },
    {
      "cell_type": "markdown",
      "metadata": {
        "id": "oWwrbC6pRbuq"
      },
      "source": [
        "# Transformation"
      ]
    },
    {
      "cell_type": "markdown",
      "metadata": {
        "id": "XUBjYRQ5TJxQ"
      },
      "source": [
        "Data transformation consists of improving the predictive value of a variable, giving mathematical meaning to variables, grouping data, and improving the ability to discriminate of a variable."
      ]
    },
    {
      "cell_type": "markdown",
      "metadata": {
        "id": "fJAAo1mOSFL-"
      },
      "source": [
        "## We transform data to a new scale"
      ]
    },
    {
      "cell_type": "markdown",
      "metadata": {
        "id": "hWTiQEJyRwf_"
      },
      "source": [
        "First we see the distribution of asymmetric variables graphing them"
      ]
    },
    {
      "cell_type": "code",
      "metadata": {
        "id": "Zx79H6rbSaZq"
      },
      "source": [
        "data_set['Income'].plot(kind='hist',bins=150, grid=True )\n",
        "plt.show()\n",
        "data_set['Creddebt'].plot(kind='hist',bins=60, grid=True)\n",
        "plt.show()\n",
        "data_set['OthDebt'].plot(kind='hist',bins=57, grid=True )\n",
        "plt.show()\n"
      ],
      "execution_count": null,
      "outputs": []
    },
    {
      "cell_type": "markdown",
      "metadata": {
        "id": "SR_dsQMjWe5J"
      },
      "source": [
        "As we see the variable is concentrated in an interval, so we apply its logarithm:"
      ]
    },
    {
      "cell_type": "code",
      "metadata": {
        "id": "66SqOTHpXJkd"
      },
      "source": [
        "data_set['Ln_Income'] = np.log(data_set['Income']+1)\n",
        "data_set['Ln_Creddebt'] = np.log(data_set['Creddebt']+1)\n",
        "data_set['Ln_OthDebt'] = np.log(data_set['OthDebt']+1)"
      ],
      "execution_count": null,
      "outputs": []
    },
    {
      "cell_type": "markdown",
      "metadata": {
        "id": "_RErf1LMWyUB"
      },
      "source": [
        "Now, if we graph their logarithms we can see that they have a normal distribution"
      ]
    },
    {
      "cell_type": "code",
      "metadata": {
        "id": "Z4T-0nBuX7Cu"
      },
      "source": [
        "data_set['Ln_Income'].plot(kind='hist',bins=100, grid=True )\n",
        "plt.show()\n",
        "data_set['Ln_Creddebt'].plot(kind='hist',bins=40, grid=True )\n",
        "plt.show()\n",
        "data_set['Ln_OthDebt'].plot(kind='hist',bins=40, grid=True )\n",
        "plt.show()"
      ],
      "execution_count": null,
      "outputs": []
    },
    {
      "cell_type": "markdown",
      "metadata": {
        "id": "nt7BjNOyzlbX"
      },
      "source": [
        "We remove the Income, Creddebt and OthDebt variables to stay with only their logarithms."
      ]
    },
    {
      "cell_type": "code",
      "metadata": {
        "id": "4-4JafAZZgsi"
      },
      "source": [
        "del data_set['Income']\n",
        "del data_set['Creddebt']\n",
        "del data_set['OthDebt']"
      ],
      "execution_count": null,
      "outputs": []
    },
    {
      "cell_type": "markdown",
      "metadata": {
        "id": "L3zcbqluTAK-"
      },
      "source": [
        "## Aggregation"
      ]
    },
    {
      "cell_type": "markdown",
      "metadata": {
        "id": "s5DdNwO_EVQu"
      },
      "source": [
        "For the Education variable we will group your data to reduce its classes. Therefore, we will join two classes into one, when the variable takes the value of full and postgraduate higher education, as shown in the example below:\n",
        "\n",
        "SupCom + Posg = Completa\n",
        "\n",
        "What translates into the code:"
      ]
    },
    {
      "cell_type": "code",
      "metadata": {
        "id": "RrHId4FsTCbH"
      },
      "source": [
        "data_set['Education'] = data_set['Education'].replace('SupCom', 'Completa')\n",
        "data_set['Education'] = data_set['Education'].replace('Posg', 'Completa')"
      ],
      "execution_count": null,
      "outputs": []
    },
    {
      "cell_type": "markdown",
      "metadata": {
        "id": "rDrVP7eVY06S"
      },
      "source": [
        "## We transform data into binary variables"
      ]
    },
    {
      "cell_type": "markdown",
      "metadata": {
        "id": "AaGXkzHNUMrO"
      },
      "source": [
        "We transform the categorical variables of the database to binary variables"
      ]
    },
    {
      "cell_type": "markdown",
      "metadata": {
        "id": "K3GJ2oHuNYXe"
      },
      "source": [
        "To transform all categorical variables in the database to binary variables:"
      ]
    },
    {
      "cell_type": "code",
      "metadata": {
        "id": "FHo_4N8mY8Wf",
        "colab": {
          "base_uri": "https://localhost:8080/"
        },
        "outputId": "178a8e2a-2bce-45c5-fa0d-a12b73212b0e"
      },
      "source": [
        "'''\n",
        "we define another data_set to be able to execute the two codes, otherwise\n",
        "there will be no variables to transform in the following example\n",
        "'''\n",
        "data_set_T = data_set \n",
        "data_set_T = pd.get_dummies(data_set_T, drop_first= True)\n",
        "data_set_T.info()"
      ],
      "execution_count": null,
      "outputs": [
        {
          "output_type": "stream",
          "text": [
            "<class 'pandas.core.frame.DataFrame'>\n",
            "RangeIndex: 1200 entries, 0 to 1199\n",
            "Data columns (total 11 columns):\n",
            " #   Column              Non-Null Count  Dtype  \n",
            "---  ------              --------------  -----  \n",
            " 0   Age                 1200 non-null   float64\n",
            " 1   Employ              1200 non-null   float64\n",
            " 2   Address             1200 non-null   float64\n",
            " 3   Debtinc             1200 non-null   float64\n",
            " 4   Ln_Income           1200 non-null   float64\n",
            " 5   Ln_Creddebt         1200 non-null   float64\n",
            " 6   Ln_OthDebt          1200 non-null   float64\n",
            " 7   Education_Completa  1200 non-null   uint8  \n",
            " 8   Education_Med       1200 non-null   uint8  \n",
            " 9   Education_SupInc    1200 non-null   uint8  \n",
            " 10  Default_S           1200 non-null   uint8  \n",
            "dtypes: float64(7), uint8(4)\n",
            "memory usage: 70.4 KB\n"
          ],
          "name": "stdout"
        }
      ]
    },
    {
      "cell_type": "markdown",
      "metadata": {
        "id": "8hGovx8vNnnn"
      },
      "source": [
        "To transform a database-specific categorical variable to binary variable:"
      ]
    },
    {
      "cell_type": "code",
      "metadata": {
        "id": "gQuROPG_GDdD",
        "colab": {
          "base_uri": "https://localhost:8080/"
        },
        "outputId": "5c968ebb-acf1-4819-d322-57c2d986cefe"
      },
      "source": [
        "data_set = pd.get_dummies(data_set, columns = [\"Default\"], drop_first = True)\n",
        "data_set = pd.get_dummies(data_set, columns = [\"Nationality\"]) #without drop_first because everyone takes the same value then eliminates it\n",
        "data_set = pd.get_dummies(data_set, columns = [\"Education\"], drop_first=True) \n",
        "data_set.info()"
      ],
      "execution_count": null,
      "outputs": [
        {
          "output_type": "stream",
          "text": [
            "<class 'pandas.core.frame.DataFrame'>\n",
            "RangeIndex: 1200 entries, 0 to 1199\n",
            "Data columns (total 12 columns):\n",
            " #   Column              Non-Null Count  Dtype  \n",
            "---  ------              --------------  -----  \n",
            " 0   Age                 1200 non-null   float64\n",
            " 1   Employ              1200 non-null   float64\n",
            " 2   Address             1200 non-null   float64\n",
            " 3   Debtinc             1200 non-null   float64\n",
            " 4   Ln_Income           1200 non-null   float64\n",
            " 5   Ln_Creddebt         1200 non-null   float64\n",
            " 6   Ln_OthDebt          1200 non-null   float64\n",
            " 7   Default_S           1200 non-null   uint8  \n",
            " 8   Nationality_N       1200 non-null   uint8  \n",
            " 9   Education_Completa  1200 non-null   uint8  \n",
            " 10  Education_Med       1200 non-null   uint8  \n",
            " 11  Education_SupInc    1200 non-null   uint8  \n",
            "dtypes: float64(7), uint8(5)\n",
            "memory usage: 71.6 KB\n"
          ],
          "name": "stdout"
        }
      ]
    },
    {
      "cell_type": "markdown",
      "metadata": {
        "id": "5mE6PpQwagjq"
      },
      "source": [
        "## Normalization"
      ]
    },
    {
      "cell_type": "markdown",
      "metadata": {
        "id": "7uyipGD0Djxe"
      },
      "source": [
        "Standardization consists of standardizing the database to match the treatment of each variable."
      ]
    },
    {
      "cell_type": "code",
      "metadata": {
        "id": "SFSz3S0Mafp9"
      },
      "source": [
        "#data_set_scaled = preprocessing.StandardScaler() \n",
        "#data_set_scaled = pd.DataFrame(data_set_scaled.fit_transform(data_set), columns = data_set.columns)"
      ],
      "execution_count": null,
      "outputs": []
    },
    {
      "cell_type": "markdown",
      "metadata": {
        "id": "6PeEQjl2dMuE"
      },
      "source": [
        "## Discretization"
      ]
    },
    {
      "cell_type": "markdown",
      "metadata": {
        "id": "nO5UOWBMZIV9"
      },
      "source": [
        "Discretization is about transforming continuous variables into categorical variables. With this we increase the variables to create better discrimination of them."
      ]
    },
    {
      "cell_type": "markdown",
      "metadata": {
        "id": "2Z-XgqwuT84f"
      },
      "source": [
        "**We discretize the Age variable**"
      ]
    },
    {
      "cell_type": "markdown",
      "metadata": {
        "id": "myNuUgW3Ze0y"
      },
      "source": [
        "We have to establish a criterion to divide the variables, in this case we will do it by quantity.\n",
        "\n",
        "We define the split points to use:\n",
        "\n"
      ]
    },
    {
      "cell_type": "code",
      "metadata": {
        "id": "QbhuenIsxEi4"
      },
      "source": [
        "cut_points = data_set['Age'].quantile([0, .2, .4, .6, .8, 1]) #the array is how I want to divide the data"
      ],
      "execution_count": null,
      "outputs": []
    },
    {
      "cell_type": "markdown",
      "metadata": {
        "id": "3EJ3Ntf9bjNH"
      },
      "source": [
        "Now we discretize the Age variable with the defined points:"
      ]
    },
    {
      "cell_type": "code",
      "metadata": {
        "id": "yQWOd63ybNTP",
        "colab": {
          "base_uri": "https://localhost:8080/"
        },
        "outputId": "145fe6cd-552d-48ec-e397-3880599f5a45"
      },
      "source": [
        "Age_binned = pd.cut(data_set['Age'], bins =cut_points, include_lowest= True ) # bins can be an int also with the number of dividations in the interval and based on that divides it\n",
        "print(Age_binned)"
      ],
      "execution_count": null,
      "outputs": [
        {
          "output_type": "stream",
          "text": [
            "0       (22.8, 28.0]\n",
            "1       (45.0, 79.0]\n",
            "2       (35.0, 45.0]\n",
            "3       (28.0, 35.0]\n",
            "4       (22.8, 28.0]\n",
            "            ...     \n",
            "1195    (22.8, 28.0]\n",
            "1196    (45.0, 79.0]\n",
            "1197    (45.0, 79.0]\n",
            "1198    (45.0, 79.0]\n",
            "1199    (28.0, 35.0]\n",
            "Name: Age, Length: 1200, dtype: category\n",
            "Categories (5, interval[float64]): [(17.999, 22.8] < (22.8, 28.0] < (28.0, 35.0] < (35.0, 45.0] <\n",
            "                                    (45.0, 79.0]]\n"
          ],
          "name": "stdout"
        }
      ]
    },
    {
      "cell_type": "markdown",
      "metadata": {
        "id": "TVWXueLkOKUh"
      },
      "source": [
        "Then Age_binned will be the discretized Age variable."
      ]
    },
    {
      "cell_type": "markdown",
      "metadata": {
        "id": "WSGffyp9UCB-"
      },
      "source": [
        "**We discretize the Address variable**"
      ]
    },
    {
      "cell_type": "markdown",
      "metadata": {
        "id": "Y79m1llTOc_B"
      },
      "source": [
        "We do the same analysis as for the Age variable."
      ]
    },
    {
      "cell_type": "code",
      "metadata": {
        "id": "Ps_EMDuK90c_",
        "colab": {
          "base_uri": "https://localhost:8080/"
        },
        "outputId": "040c9361-a74b-422b-8814-22e7bff51b37"
      },
      "source": [
        "cut_points = data_set['Address'].quantile([0, .2, .4, .6, .8, 1]) \n",
        "Address_binned = pd.cut(data_set['Address'], bins =cut_points, include_lowest= True )\n",
        "print(Address_binned)"
      ],
      "execution_count": null,
      "outputs": [
        {
          "output_type": "stream",
          "text": [
            "0         (1.0, 3.0]\n",
            "1       (11.0, 34.0]\n",
            "2       (11.0, 34.0]\n",
            "3         (1.0, 3.0]\n",
            "4         (1.0, 3.0]\n",
            "            ...     \n",
            "1195      (1.0, 3.0]\n",
            "1196    (11.0, 34.0]\n",
            "1197    (11.0, 34.0]\n",
            "1198    (11.0, 34.0]\n",
            "1199     (6.0, 11.0]\n",
            "Name: Address, Length: 1200, dtype: category\n",
            "Categories (5, interval[float64]): [(-0.001, 1.0] < (1.0, 3.0] < (3.0, 6.0] < (6.0, 11.0] <\n",
            "                                    (11.0, 34.0]]\n"
          ],
          "name": "stdout"
        }
      ]
    },
    {
      "cell_type": "markdown",
      "metadata": {
        "id": "Rr-7mcAOOos4"
      },
      "source": [
        "Then Address_binned the discretized Address variable will be."
      ]
    },
    {
      "cell_type": "markdown",
      "metadata": {
        "id": "lTffvV7wdYeh"
      },
      "source": [
        "# Filters (Attribute selection)"
      ]
    },
    {
      "cell_type": "markdown",
      "metadata": {
        "id": "QP8atF8nb5N1"
      },
      "source": [
        "Filters are used to choose a subset of relevant variables, eliminating noise-generating variables and confusing the model.\n",
        "\n",
        "There are 3 criteria:"
      ]
    },
    {
      "cell_type": "markdown",
      "metadata": {
        "id": "NRDS3IDYdkcx"
      },
      "source": [
        "## Inutility"
      ]
    },
    {
      "cell_type": "markdown",
      "metadata": {
        "id": "dE1QchbGdeYV"
      },
      "source": [
        "This criterion is to find highly concentrated variables within the database.\n",
        "\n",
        "For this we calculate the standard deviation of the variables:"
      ]
    },
    {
      "cell_type": "code",
      "metadata": {
        "id": "Wz4_uLTDAp8J",
        "colab": {
          "base_uri": "https://localhost:8080/"
        },
        "outputId": "e85a6ecb-0588-4d26-e07c-34a1ba96120b"
      },
      "source": [
        "data_set.std()"
      ],
      "execution_count": null,
      "outputs": [
        {
          "output_type": "execute_result",
          "data": {
            "text/plain": [
              "Age                   13.235918\n",
              "Employ                 9.172897\n",
              "Address                6.092325\n",
              "Debtinc                6.856562\n",
              "Ln_Income              0.666340\n",
              "Ln_Creddebt            0.628778\n",
              "Ln_OthDebt             0.725148\n",
              "Default_S              0.483672\n",
              "Nationality_N          0.000000\n",
              "Education_Completa     0.443712\n",
              "Education_Med          0.479711\n",
              "Education_SupInc       0.413854\n",
              "dtype: float64"
            ]
          },
          "metadata": {},
          "execution_count": 77
        }
      ]
    },
    {
      "cell_type": "markdown",
      "metadata": {
        "id": "TlXxsmaR1ZdR"
      },
      "source": [
        "We ruled out Nationality because its standard deviation is 0"
      ]
    },
    {
      "cell_type": "code",
      "metadata": {
        "id": "BNihXBXpgC0v"
      },
      "source": [
        "del data_set['Nationality_N']"
      ],
      "execution_count": null,
      "outputs": []
    },
    {
      "cell_type": "markdown",
      "metadata": {
        "id": "nkDNCBrtj2v9"
      },
      "source": [
        "## Redundance"
      ]
    },
    {
      "cell_type": "markdown",
      "metadata": {
        "id": "3y-dNhz9dy_k"
      },
      "source": [
        "This criterion is to find variables that are highly correlated because they deliver similar results."
      ]
    },
    {
      "cell_type": "markdown",
      "metadata": {
        "id": "3O1Pk2xakEx3"
      },
      "source": [
        "We calculate the correlation matrix between all variables in the database:"
      ]
    },
    {
      "cell_type": "code",
      "metadata": {
        "id": "-BjxHTh0j5X1",
        "colab": {
          "base_uri": "https://localhost:8080/"
        },
        "outputId": "d8c20d3c-ff11-4d10-a579-8eac142b53c3"
      },
      "source": [
        "corrmat = data_set.corr().abs()\n",
        "f, ax = plt.subplots(figsize=(10, 7))\n",
        "sn.heatmap(corrmat, square=True);"
      ],
      "execution_count": null,
      "outputs": [
        {
          "output_type": "display_data",
          "data": {
            "image/png": "[encoded data removed]",
            "text/plain": [
              "<Figure size 720x504 with 2 Axes>"
            ]
          },
          "metadata": {
            "needs_background": "light"
          }
        }
      ]
    },
    {
      "cell_type": "markdown",
      "metadata": {
        "id": "VqDeHhBynvmS"
      },
      "source": [
        "## Relevance"
      ]
    },
    {
      "cell_type": "markdown",
      "metadata": {
        "id": "M6NnN5NdeZhF"
      },
      "source": [
        "Finally this criterion is to see which variables are most relevant to predicting the target variable.\n",
        "\n",
        "We will use the chi squared test that calculates the relationship between two nominal variables."
      ]
    },
    {
      "cell_type": "markdown",
      "metadata": {
        "id": "KXyOTGY1TFrp"
      },
      "source": [
        "**We calculate the relationship between the Age variable and Default**"
      ]
    },
    {
      "cell_type": "markdown",
      "metadata": {
        "id": "0oFBNBqlfEJp"
      },
      "source": [
        "To be able to perform the test we have to use two categorical variables, so we occupy the discretized Age variable.\n",
        "\n",
        "\n",
        "We create the contingency table between the two variables:"
      ]
    },
    {
      "cell_type": "code",
      "metadata": {
        "id": "rdvhvg1sfMN9",
        "colab": {
          "base_uri": "https://localhost:8080/",
          "height": 426
        },
        "outputId": "072a47a0-a984-4d43-9408-010c0ffa0895"
      },
      "source": [
        "tbl = pd.crosstab(index=Age_binned,columns=data_set['Default_S'])\n",
        "print(tbl)\n",
        "data_set.describe(include='all') "
      ],
      "execution_count": null,
      "outputs": [
        {
          "output_type": "stream",
          "text": [
            "Default_S         0    1\n",
            "Age                     \n",
            "(17.999, 22.8]  106  134\n",
            "(22.8, 28.0]    136  122\n",
            "(28.0, 35.0]    145   88\n",
            "(35.0, 45.0]    167   68\n",
            "(45.0, 79.0]    199   35\n"
          ],
          "name": "stdout"
        },
        {
          "output_type": "execute_result",
          "data": {
            "text/html": [
              "<div>\n",
              "<style scoped>\n",
              "    .dataframe tbody tr th:only-of-type {\n",
              "        vertical-align: middle;\n",
              "    }\n",
              "\n",
              "    .dataframe tbody tr th {\n",
              "        vertical-align: top;\n",
              "    }\n",
              "\n",
              "    .dataframe thead th {\n",
              "        text-align: right;\n",
              "    }\n",
              "</style>\n",
              "<table border=\"1\" class=\"dataframe\">\n",
              "  <thead>\n",
              "    <tr style=\"text-align: right;\">\n",
              "      <th></th>\n",
              "      <th>Age</th>\n",
              "      <th>Employ</th>\n",
              "      <th>Address</th>\n",
              "      <th>Debtinc</th>\n",
              "      <th>Ln_Income</th>\n",
              "      <th>Ln_Creddebt</th>\n",
              "      <th>Ln_OthDebt</th>\n",
              "      <th>Default_S</th>\n",
              "      <th>Education_Completa</th>\n",
              "      <th>Education_Med</th>\n",
              "      <th>Education_SupInc</th>\n",
              "    </tr>\n",
              "  </thead>\n",
              "  <tbody>\n",
              "    <tr>\n",
              "      <th>count</th>\n",
              "      <td>1200.000000</td>\n",
              "      <td>1200.000000</td>\n",
              "      <td>1200.000000</td>\n",
              "      <td>1200.000000</td>\n",
              "      <td>1200.000000</td>\n",
              "      <td>1200.000000</td>\n",
              "      <td>1200.000000</td>\n",
              "      <td>1200.000000</td>\n",
              "      <td>1200.000000</td>\n",
              "      <td>1200.000000</td>\n",
              "      <td>1200.000000</td>\n",
              "    </tr>\n",
              "    <tr>\n",
              "      <th>mean</th>\n",
              "      <td>34.342500</td>\n",
              "      <td>7.062500</td>\n",
              "      <td>6.386667</td>\n",
              "      <td>10.192494</td>\n",
              "      <td>3.836314</td>\n",
              "      <td>0.853693</td>\n",
              "      <td>1.301167</td>\n",
              "      <td>0.372500</td>\n",
              "      <td>0.269167</td>\n",
              "      <td>0.358333</td>\n",
              "      <td>0.219167</td>\n",
              "    </tr>\n",
              "    <tr>\n",
              "      <th>std</th>\n",
              "      <td>13.235918</td>\n",
              "      <td>9.172897</td>\n",
              "      <td>6.092325</td>\n",
              "      <td>6.856562</td>\n",
              "      <td>0.666340</td>\n",
              "      <td>0.628778</td>\n",
              "      <td>0.725148</td>\n",
              "      <td>0.483672</td>\n",
              "      <td>0.443712</td>\n",
              "      <td>0.479711</td>\n",
              "      <td>0.413854</td>\n",
              "    </tr>\n",
              "    <tr>\n",
              "      <th>min</th>\n",
              "      <td>18.000000</td>\n",
              "      <td>0.000000</td>\n",
              "      <td>0.000000</td>\n",
              "      <td>0.100000</td>\n",
              "      <td>2.564949</td>\n",
              "      <td>0.009950</td>\n",
              "      <td>0.009950</td>\n",
              "      <td>0.000000</td>\n",
              "      <td>0.000000</td>\n",
              "      <td>0.000000</td>\n",
              "      <td>0.000000</td>\n",
              "    </tr>\n",
              "    <tr>\n",
              "      <th>25%</th>\n",
              "      <td>24.000000</td>\n",
              "      <td>0.000000</td>\n",
              "      <td>2.000000</td>\n",
              "      <td>4.900000</td>\n",
              "      <td>3.367296</td>\n",
              "      <td>0.362901</td>\n",
              "      <td>0.759635</td>\n",
              "      <td>0.000000</td>\n",
              "      <td>0.000000</td>\n",
              "      <td>0.000000</td>\n",
              "      <td>0.000000</td>\n",
              "    </tr>\n",
              "    <tr>\n",
              "      <th>50%</th>\n",
              "      <td>31.000000</td>\n",
              "      <td>4.000000</td>\n",
              "      <td>5.000000</td>\n",
              "      <td>8.800000</td>\n",
              "      <td>3.713572</td>\n",
              "      <td>0.717840</td>\n",
              "      <td>1.201469</td>\n",
              "      <td>0.000000</td>\n",
              "      <td>0.000000</td>\n",
              "      <td>0.000000</td>\n",
              "      <td>0.000000</td>\n",
              "    </tr>\n",
              "    <tr>\n",
              "      <th>75%</th>\n",
              "      <td>42.000000</td>\n",
              "      <td>10.000000</td>\n",
              "      <td>9.250000</td>\n",
              "      <td>13.900000</td>\n",
              "      <td>4.189655</td>\n",
              "      <td>1.205971</td>\n",
              "      <td>1.747894</td>\n",
              "      <td>1.000000</td>\n",
              "      <td>1.000000</td>\n",
              "      <td>1.000000</td>\n",
              "      <td>0.000000</td>\n",
              "    </tr>\n",
              "    <tr>\n",
              "      <th>max</th>\n",
              "      <td>79.000000</td>\n",
              "      <td>63.000000</td>\n",
              "      <td>34.000000</td>\n",
              "      <td>40.700000</td>\n",
              "      <td>6.984716</td>\n",
              "      <td>3.610107</td>\n",
              "      <td>4.166200</td>\n",
              "      <td>1.000000</td>\n",
              "      <td>1.000000</td>\n",
              "      <td>1.000000</td>\n",
              "      <td>1.000000</td>\n",
              "    </tr>\n",
              "  </tbody>\n",
              "</table>\n",
              "</div>"
            ],
            "text/plain": [
              "               Age       Employ  ...  Education_Med  Education_SupInc\n",
              "count  1200.000000  1200.000000  ...    1200.000000       1200.000000\n",
              "mean     34.342500     7.062500  ...       0.358333          0.219167\n",
              "std      13.235918     9.172897  ...       0.479711          0.413854\n",
              "min      18.000000     0.000000  ...       0.000000          0.000000\n",
              "25%      24.000000     0.000000  ...       0.000000          0.000000\n",
              "50%      31.000000     4.000000  ...       0.000000          0.000000\n",
              "75%      42.000000    10.000000  ...       1.000000          0.000000\n",
              "max      79.000000    63.000000  ...       1.000000          1.000000\n",
              "\n",
              "[8 rows x 11 columns]"
            ]
          },
          "metadata": {},
          "execution_count": 80
        }
      ]
    },
    {
      "cell_type": "markdown",
      "metadata": {
        "id": "O32B45jQfOu6"
      },
      "source": [
        "We perform the chi square test from the table and get its results:"
      ]
    },
    {
      "cell_type": "code",
      "metadata": {
        "id": "klYxUYdT1vAe",
        "colab": {
          "base_uri": "https://localhost:8080/"
        },
        "outputId": "8e5c5543-8beb-4084-90a9-18d6601ef446"
      },
      "source": [
        "stat, p, dof, expected = chi2_contingency(tbl)\n",
        "# print the test results\n",
        "print('Pearsons Chi-squared test')\n",
        "print('X-squared = %d' % stat) \n",
        "print('P-value =%d' % p)\n",
        "print('dof = %d' % dof)"
      ],
      "execution_count": null,
      "outputs": [
        {
          "output_type": "stream",
          "text": [
            "Pearsons Chi-squared test\n",
            "X-squared = 103\n",
            "P-value =0\n",
            "dof = 4\n"
          ],
          "name": "stdout"
        }
      ]
    },
    {
      "cell_type": "markdown",
      "metadata": {
        "id": "UkRK3ryBTUyC"
      },
      "source": [
        "**We calculate the relationship between the Address variable and Default**"
      ]
    },
    {
      "cell_type": "markdown",
      "metadata": {
        "id": "IqlyN-DEfiiz"
      },
      "source": [
        "We do the same analysis above."
      ]
    },
    {
      "cell_type": "code",
      "metadata": {
        "id": "j9UMbFdU-Iv1",
        "colab": {
          "base_uri": "https://localhost:8080/"
        },
        "outputId": "689e1ba3-978d-40a7-ba95-2179126e6835"
      },
      "source": [
        "tbl = pd.crosstab(index=Address_binned, columns=data_set['Default_S'])\n",
        "print(tbl)\n",
        "stat, p, dof, expected = chi2_contingency(tbl)\n",
        "print('Pearsons Chi-squared test')\n",
        "print('X-squared = %d' % stat) \n",
        "print('P-value =%d' % p)\n",
        "print('dof = %d' % dof)"
      ],
      "execution_count": null,
      "outputs": [
        {
          "output_type": "stream",
          "text": [
            "Default_S        0    1\n",
            "Address                \n",
            "(-0.001, 1.0]  126  162\n",
            "(1.0, 3.0]     113   88\n",
            "(3.0, 6.0]     145   92\n",
            "(6.0, 11.0]    192   72\n",
            "(11.0, 34.0]   177   33\n",
            "Pearsons Chi-squared test\n",
            "X-squared = 101\n",
            "P-value =0\n",
            "dof = 4\n"
          ],
          "name": "stdout"
        }
      ]
    },
    {
      "cell_type": "markdown",
      "metadata": {
        "id": "xHoG-2wpTbk0"
      },
      "source": [
        "Finally we ruled out Address as it is redundant and less relevant than Age"
      ]
    },
    {
      "cell_type": "code",
      "metadata": {
        "id": "943YhScIL0v_"
      },
      "source": [
        "del data_set['Address']"
      ],
      "execution_count": null,
      "outputs": []
    },
    {
      "cell_type": "markdown",
      "metadata": {
        "id": "EQwD13jVtSvi"
      },
      "source": [
        "**Selection of most relevant variables with chi square test**"
      ]
    },
    {
      "cell_type": "markdown",
      "metadata": {
        "id": "1SJmIh_1nQbU"
      },
      "source": [
        "We select the 5 variables that have the largest chi square statistic, as shown below:"
      ]
    },
    {
      "cell_type": "markdown",
      "metadata": {
        "id": "-kiFEo25uFSE"
      },
      "source": [
        "First we define as X the independent variables and as Y the dependent variable:"
      ]
    },
    {
      "cell_type": "code",
      "metadata": {
        "id": "d6m6k7Z2uKU3",
        "colab": {
          "base_uri": "https://localhost:8080/"
        },
        "outputId": "43ad1990-a3b0-4b34-ec58-dfafa175ef03"
      },
      "source": [
        "X = data_set.loc[:, data_set.columns != 'Default_S'] \n",
        "y = data_set.loc[:, data_set.columns == 'Default_S']\n",
        "X.shape"
      ],
      "execution_count": null,
      "outputs": [
        {
          "output_type": "execute_result",
          "data": {
            "text/plain": [
              "(1200, 9)"
            ]
          },
          "metadata": {},
          "execution_count": 84
        }
      ]
    },
    {
      "cell_type": "markdown",
      "metadata": {
        "id": "Yvx3tNjpuTDs"
      },
      "source": [
        "Now we apply the SelectKBest function with the chi squared test to determine the most relevant variables:"
      ]
    },
    {
      "cell_type": "code",
      "metadata": {
        "id": "LhXm7gWFnaa3",
        "colab": {
          "base_uri": "https://localhost:8080/"
        },
        "outputId": "d0ac61cd-e9ba-4bf9-96af-0323caff9056"
      },
      "source": [
        "X_new = SelectKBest(chi2, k=5).fit(X, y)\n",
        "#para que devuleva una matriz con lo valores de las variables mas relevantes (numpy array) \n",
        "#no se si es necesario poner esto\n",
        "x_final = X_new.fit_transform(X,y) \n",
        "x_final.shape\n",
        "print(x_final)"
      ],
      "execution_count": null,
      "outputs": [
        {
          "output_type": "stream",
          "text": [
            "[[28.          7.         17.7         1.38379123  0.        ]\n",
            " [64.         34.         14.7         1.80005827  1.        ]\n",
            " [40.         20.          4.8         0.71294981  0.        ]\n",
            " ...\n",
            " [51.          9.         14.6         0.91629073  0.        ]\n",
            " [57.         31.          1.4         1.08518927  1.        ]\n",
            " [33.          3.         12.8         0.65232519  0.        ]]\n"
          ],
          "name": "stdout"
        }
      ]
    },
    {
      "cell_type": "markdown",
      "metadata": {
        "id": "A6rrQiYpvmka"
      },
      "source": [
        "Finally, we can get the names of the selected columns:"
      ]
    },
    {
      "cell_type": "code",
      "metadata": {
        "id": "zAdIGWqtu7CI",
        "colab": {
          "base_uri": "https://localhost:8080/"
        },
        "outputId": "6cbf5e13-c29b-4719-9650-edefb06d2c9f"
      },
      "source": [
        "kbest = np.asarray(X.columns)[X_new.get_support()]\n",
        "print(kbest)"
      ],
      "execution_count": null,
      "outputs": [
        {
          "output_type": "stream",
          "text": [
            "['Age' 'Employ' 'Debtinc' 'Ln_Creddebt' 'Education_Completa']\n"
          ],
          "name": "stdout"
        }
      ]
    },
    {
      "cell_type": "markdown",
      "metadata": {
        "id": "tvaPZR75Tie6"
      },
      "source": [
        "**Standardization**"
      ]
    },
    {
      "cell_type": "code",
      "metadata": {
        "id": "CfGqBy4_DxtA",
        "colab": {
          "base_uri": "https://localhost:8080/"
        },
        "outputId": "b65df3ce-4dee-4624-f745-c5aa04051feb"
      },
      "source": [
        "Default = data_set['Default_S']\n",
        "scaler = MinMaxScaler()\n",
        "scaler_data = scaler.fit(data_set)\n",
        "data_set_scaled = pd.DataFrame(scaler_data.transform(data_set), index=data_set.index, columns=data_set.columns)\n",
        "data_set_scaled['Default_S'] = Default\n",
        "print(data_set_scaled)"
      ],
      "execution_count": null,
      "outputs": [
        {
          "output_type": "stream",
          "text": [
            "           Age    Employ  ...  Education_Med  Education_SupInc\n",
            "0     0.163934  0.111111  ...            1.0               0.0\n",
            "1     0.754098  0.539683  ...            0.0               0.0\n",
            "2     0.360656  0.317460  ...            0.0               0.0\n",
            "3     0.196721  0.174603  ...            0.0               0.0\n",
            "4     0.114754  0.031746  ...            0.0               0.0\n",
            "...        ...       ...  ...            ...               ...\n",
            "1195  0.098361  0.015873  ...            0.0               0.0\n",
            "1196  0.885246  0.761905  ...            1.0               0.0\n",
            "1197  0.540984  0.142857  ...            1.0               0.0\n",
            "1198  0.639344  0.492063  ...            0.0               0.0\n",
            "1199  0.245902  0.047619  ...            0.0               1.0\n",
            "\n",
            "[1200 rows x 10 columns]\n"
          ],
          "name": "stdout"
        }
      ]
    }
  ]
}