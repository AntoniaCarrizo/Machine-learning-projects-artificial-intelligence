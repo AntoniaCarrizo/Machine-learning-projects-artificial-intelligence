{
  "nbformat": 4,
  "nbformat_minor": 0,
  "metadata": {
    "accelerator": "GPU",
    "colab": {
      "name": "improved image classification.ipynb",
      "provenance": [],
      "collapsed_sections": [
        "RPVeouTksO9q"
      ],
      "machine_shape": "hm",
      "include_colab_link": true
    },
    "kernelspec": {
      "display_name": "Python 3",
      "name": "python3"
    }
  },
  "cells": [
    {
      "cell_type": "markdown",
      "metadata": {
        "id": "view-in-github",
        "colab_type": "text"
      },
      "source": [
        "<a href=\"https://colab.research.google.com/github/AntoniaCarrizo/Machine-learning-projects-artificial-intelligence/blob/main/improved_image_classification.ipynb\" target=\"_parent\"><img src=\"https://colab.research.google.com/assets/colab-badge.svg\" alt=\"Open In Colab\"/></a>"
      ]
    },
    {
      "cell_type": "markdown",
      "metadata": {
        "id": "7RVsYZLEpEWs"
      },
      "source": [
        "# Load dataset"
      ]
    },
    {
      "cell_type": "markdown",
      "metadata": {
        "id": "LBOw1yqwUjhe"
      },
      "source": [
        "What is necessary must be installed to load the data"
      ]
    },
    {
      "cell_type": "code",
      "metadata": {
        "id": "e3BXzUGabcI9",
        "colab": {
          "base_uri": "https://localhost:8080/"
        },
        "outputId": "0b5a01fa-63c2-4bf9-d36f-cf2d07a3dcfe"
      },
      "source": [
        "!pip install -U tensorflow_hub\n",
        "!pip install -U tensorflow_datasets"
      ],
      "execution_count": null,
      "outputs": [
        {
          "output_type": "stream",
          "name": "stdout",
          "text": [
            "Requirement already satisfied: tensorflow_hub in /usr/local/lib/python3.7/dist-packages (0.12.0)\n",
            "Requirement already satisfied: protobuf>=3.8.0 in /usr/local/lib/python3.7/dist-packages (from tensorflow_hub) (3.17.3)\n",
            "Requirement already satisfied: numpy>=1.12.0 in /usr/local/lib/python3.7/dist-packages (from tensorflow_hub) (1.19.5)\n",
            "Requirement already satisfied: six>=1.9 in /usr/local/lib/python3.7/dist-packages (from protobuf>=3.8.0->tensorflow_hub) (1.15.0)\n",
            "Requirement already satisfied: tensorflow_datasets in /usr/local/lib/python3.7/dist-packages (4.4.0)\n",
            "Requirement already satisfied: protobuf>=3.12.2 in /usr/local/lib/python3.7/dist-packages (from tensorflow_datasets) (3.17.3)\n",
            "Requirement already satisfied: tensorflow-metadata in /usr/local/lib/python3.7/dist-packages (from tensorflow_datasets) (1.2.0)\n",
            "Requirement already satisfied: typing-extensions in /usr/local/lib/python3.7/dist-packages (from tensorflow_datasets) (3.7.4.3)\n",
            "Requirement already satisfied: importlib-resources in /usr/local/lib/python3.7/dist-packages (from tensorflow_datasets) (5.2.2)\n",
            "Requirement already satisfied: attrs>=18.1.0 in /usr/local/lib/python3.7/dist-packages (from tensorflow_datasets) (21.2.0)\n",
            "Requirement already satisfied: promise in /usr/local/lib/python3.7/dist-packages (from tensorflow_datasets) (2.3)\n",
            "Requirement already satisfied: requests>=2.19.0 in /usr/local/lib/python3.7/dist-packages (from tensorflow_datasets) (2.23.0)\n",
            "Requirement already satisfied: future in /usr/local/lib/python3.7/dist-packages (from tensorflow_datasets) (0.16.0)\n",
            "Requirement already satisfied: numpy in /usr/local/lib/python3.7/dist-packages (from tensorflow_datasets) (1.19.5)\n",
            "Requirement already satisfied: six in /usr/local/lib/python3.7/dist-packages (from tensorflow_datasets) (1.15.0)\n",
            "Requirement already satisfied: tqdm in /usr/local/lib/python3.7/dist-packages (from tensorflow_datasets) (4.62.3)\n",
            "Requirement already satisfied: dill in /usr/local/lib/python3.7/dist-packages (from tensorflow_datasets) (0.3.4)\n",
            "Requirement already satisfied: termcolor in /usr/local/lib/python3.7/dist-packages (from tensorflow_datasets) (1.1.0)\n",
            "Requirement already satisfied: absl-py in /usr/local/lib/python3.7/dist-packages (from tensorflow_datasets) (0.12.0)\n",
            "Requirement already satisfied: idna<3,>=2.5 in /usr/local/lib/python3.7/dist-packages (from requests>=2.19.0->tensorflow_datasets) (2.10)\n",
            "Requirement already satisfied: chardet<4,>=3.0.2 in /usr/local/lib/python3.7/dist-packages (from requests>=2.19.0->tensorflow_datasets) (3.0.4)\n",
            "Requirement already satisfied: urllib3!=1.25.0,!=1.25.1,<1.26,>=1.21.1 in /usr/local/lib/python3.7/dist-packages (from requests>=2.19.0->tensorflow_datasets) (1.24.3)\n",
            "Requirement already satisfied: certifi>=2017.4.17 in /usr/local/lib/python3.7/dist-packages (from requests>=2.19.0->tensorflow_datasets) (2021.5.30)\n",
            "Requirement already satisfied: zipp>=3.1.0 in /usr/local/lib/python3.7/dist-packages (from importlib-resources->tensorflow_datasets) (3.6.0)\n",
            "Requirement already satisfied: googleapis-common-protos<2,>=1.52.0 in /usr/local/lib/python3.7/dist-packages (from tensorflow-metadata->tensorflow_datasets) (1.53.0)\n"
          ]
        }
      ]
    },
    {
      "cell_type": "markdown",
      "metadata": {
        "id": "a28UtPNlizGI"
      },
      "source": [
        "The necessary libraries are installed"
      ]
    },
    {
      "cell_type": "code",
      "metadata": {
        "id": "OGNpmn43C0O6"
      },
      "source": [
        "import time\n",
        "import numpy as np\n",
        "import matplotlib.pylab as plt\n",
        "\n",
        "import tensorflow as tf\n",
        "import tensorflow_hub as hub\n",
        "import tensorflow_datasets as tfds\n",
        "tfds.disable_progress_bar()\n",
        "\n",
        "from tensorflow.keras import layers"
      ],
      "execution_count": null,
      "outputs": []
    },
    {
      "cell_type": "markdown",
      "metadata": {
        "id": "leR56d1YVzXY"
      },
      "source": [
        "The tensorflow database is obtained and the data is separated into train and test (the database is already separated)"
      ]
    },
    {
      "cell_type": "code",
      "metadata": {
        "id": "oTjBjVBYVtmh",
        "colab": {
          "base_uri": "https://localhost:8080/"
        },
        "outputId": "4a3a6d4c-d1e5-4c0a-d813-5ec622ad2297"
      },
      "source": [
        "dataset, metadata = tfds.load(name='horses_or_humans', as_supervised=True, with_info=True)"
      ],
      "execution_count": null,
      "outputs": [
        {
          "output_type": "stream",
          "name": "stdout",
          "text": [
            "\u001b[1mDownloading and preparing dataset 153.59 MiB (download: 153.59 MiB, generated: Unknown size, total: 153.59 MiB) to /root/tensorflow_datasets/horses_or_humans/3.0.0...\u001b[0m\n",
            "\u001b[1mDataset horses_or_humans downloaded and prepared to /root/tensorflow_datasets/horses_or_humans/3.0.0. Subsequent calls will reuse this data.\u001b[0m\n"
          ]
        }
      ]
    },
    {
      "cell_type": "code",
      "metadata": {
        "id": "tcs581brWIjX"
      },
      "source": [
        "train_examples, validation_examples = dataset['train'], dataset['test']"
      ],
      "execution_count": null,
      "outputs": []
    },
    {
      "cell_type": "markdown",
      "metadata": {
        "id": "DA0xP7_tYoo2"
      },
      "source": [
        "#Preprocess data"
      ]
    },
    {
      "cell_type": "markdown",
      "metadata": {
        "id": "5Zlg_l78ZEgN"
      },
      "source": [
        "I normalize the images and leave them a fixed size, this will serve so that the trained model receives the images correctly"
      ]
    },
    {
      "cell_type": "code",
      "metadata": {
        "id": "we_ftzQxNf7e"
      },
      "source": [
        "def format_image(image, label):\n",
        "  image = tf.image.resize(image, (IMAGE_RES, IMAGE_RES))/255.0\n",
        "  return  image, label\n",
        "\n",
        "num_examples = metadata.splits['train'].num_examples\n",
        "\n",
        "BATCH_SIZE = 10\n",
        "IMAGE_RES = 240\n",
        "\n",
        "train_batches      = train_examples.cache().shuffle(num_examples//4).map(format_image).batch(BATCH_SIZE).prefetch(1)\n",
        "validation_batches = validation_examples.cache().map(format_image).batch(BATCH_SIZE).prefetch(1)"
      ],
      "execution_count": null,
      "outputs": []
    },
    {
      "cell_type": "markdown",
      "metadata": {
        "id": "JzV457OXreQP"
      },
      "source": [
        "# Transfer Learning with TensorFlow Hub"
      ]
    },
    {
      "cell_type": "markdown",
      "metadata": {
        "id": "xJuVs5gbAYrw"
      },
      "source": [
        "I selected the following trained model because in its information it says that it is for image classification, which is what we are looking for, it also says that it has good precision (this is demonstrated in the results). The size of the input says that it is flexible so it works with different sizes, also to make training and prediction simpler, the images were made 240x240 which is how the model used was trained, it was also normalized since it is specified which must have color values in the range [0,1]. I decided on this model since it gave good results and did not throw errors, other models that I tested threw errors when occupying an output layer of 2."
      ]
    },
    {
      "cell_type": "code",
      "metadata": {
        "id": "5wB030nezBwI"
      },
      "source": [
        "URL = \"https://tfhub.dev/google/efficientnet/b1/classification/1\"\n",
        "feature_extractor = hub.KerasLayer(URL,\n",
        "                                   input_shape=(IMAGE_RES, IMAGE_RES,3))"
      ],
      "execution_count": null,
      "outputs": []
    },
    {
      "cell_type": "markdown",
      "metadata": {
        "id": "CtFmF7A5E4tk"
      },
      "source": [
        "Freeze the variables in the feature extractor layer, so that the training only modifies the final classifier layer."
      ]
    },
    {
      "cell_type": "code",
      "metadata": {
        "id": "Jg5ar6rcE4H-"
      },
      "source": [
        "feature_extractor.trainable = False"
      ],
      "execution_count": null,
      "outputs": []
    },
    {
      "cell_type": "markdown",
      "metadata": {
        "id": "dyHUztr5m8zN"
      },
      "source": [
        "#Complete model"
      ]
    },
    {
      "cell_type": "markdown",
      "metadata": {
        "id": "RPVeouTksO9q"
      },
      "source": [
        "A new output layer is added to later only train this since the model is previously trained."
      ]
    },
    {
      "cell_type": "code",
      "metadata": {
        "id": "mGcY27fY1q3Q",
        "colab": {
          "base_uri": "https://localhost:8080/"
        },
        "outputId": "22d47294-6e15-4d9a-dd61-2a78244af160"
      },
      "source": [
        "model = tf.keras.Sequential([\n",
        "  feature_extractor,\n",
        "  layers.Dense(2, activation=tf.nn.softmax)\n",
        "])\n",
        "\n",
        "model.summary()"
      ],
      "execution_count": null,
      "outputs": [
        {
          "output_type": "stream",
          "name": "stdout",
          "text": [
            "Model: \"sequential\"\n",
            "_________________________________________________________________\n",
            "Layer (type)                 Output Shape              Param #   \n",
            "=================================================================\n",
            "keras_layer (KerasLayer)     (None, 1000)              7856232   \n",
            "_________________________________________________________________\n",
            "dense (Dense)                (None, 2)                 2002      \n",
            "=================================================================\n",
            "Total params: 7,858,234\n",
            "Trainable params: 2,002\n",
            "Non-trainable params: 7,856,232\n",
            "_________________________________________________________________\n"
          ]
        }
      ]
    },
    {
      "cell_type": "markdown",
      "metadata": {
        "id": "OHbXQqIquFxQ"
      },
      "source": [
        "# Train the model"
      ]
    },
    {
      "cell_type": "markdown",
      "metadata": {
        "id": "ucfka4nMpge7"
      },
      "source": [
        "I train with the adam optimizer, which is the one we have used the most, and with the SparceCategoricalCrossentropy loss function since we have categories, human or horse."
      ]
    },
    {
      "cell_type": "markdown",
      "metadata": {
        "id": "B7HBWqvXxx-g"
      },
      "source": [
        "I only train with 1 epoch because with more he overtrains and the precision goes up to 1."
      ]
    },
    {
      "cell_type": "code",
      "metadata": {
        "id": "3n0Wb9ylKd8R",
        "colab": {
          "base_uri": "https://localhost:8080/"
        },
        "outputId": "f100f68e-32cb-4e8d-97ff-f5629c38bb54"
      },
      "source": [
        "model.compile(\n",
        "  optimizer='adam', \n",
        "  loss=tf.losses.SparseCategoricalCrossentropy(from_logits=True),\n",
        "  metrics=['accuracy'])\n",
        "\n",
        "EPOCHS = 1\n",
        "history = model.fit(train_batches,\n",
        "                    epochs=EPOCHS,\n",
        "                    validation_data=validation_batches)"
      ],
      "execution_count": null,
      "outputs": [
        {
          "output_type": "stream",
          "name": "stdout",
          "text": [
            "103/103 [==============================] - 46s 108ms/step - loss: 0.3339 - accuracy: 0.9815 - val_loss: 0.3154 - val_accuracy: 1.0000\n"
          ]
        }
      ]
    },
    {
      "cell_type": "markdown",
      "metadata": {
        "id": "kb__ZN8uFn-D"
      },
      "source": [
        "# Check the predictions\n"
      ]
    },
    {
      "cell_type": "code",
      "metadata": {
        "id": "W_Zvg2i0fzJu",
        "colab": {
          "base_uri": "https://localhost:8080/"
        },
        "outputId": "05bfc999-5382-4733-88ec-d65d46f1015b"
      },
      "source": [
        "class_names = np.array(metadata.features['label'].names)\n",
        "class_names"
      ],
      "execution_count": null,
      "outputs": [
        {
          "output_type": "execute_result",
          "data": {
            "text/plain": [
              "array(['horses', 'humans'], dtype='<U6')"
            ]
          },
          "metadata": {},
          "execution_count": 10
        }
      ]
    },
    {
      "cell_type": "markdown",
      "metadata": {
        "id": "4Olg6MsNGJTL"
      },
      "source": [
        "Run an image batch through the model and convert the indices to class names."
      ]
    },
    {
      "cell_type": "code",
      "metadata": {
        "id": "fCLVCpEjJ_VP",
        "colab": {
          "base_uri": "https://localhost:8080/"
        },
        "outputId": "f3f1e38a-9d81-478d-e521-a3dd81ebd56f"
      },
      "source": [
        "image_batch, label_batch = next(iter(train_batches.take(1)))\n",
        "image_batch = image_batch.numpy()\n",
        "label_batch = label_batch.numpy()\n",
        "\n",
        "predicted_batch = model.predict(image_batch)\n",
        "predicted_batch = tf.squeeze(predicted_batch).numpy()\n",
        "predicted_ids = np.argmax(predicted_batch, axis=-1)\n",
        "predicted_class_names = class_names[predicted_ids]\n",
        "predicted_class_names"
      ],
      "execution_count": null,
      "outputs": [
        {
          "output_type": "execute_result",
          "data": {
            "text/plain": [
              "array(['humans', 'humans', 'horses', 'humans', 'humans', 'horses',\n",
              "       'horses', 'humans', 'humans', 'humans'], dtype='<U6')"
            ]
          },
          "metadata": {},
          "execution_count": 11
        }
      ]
    },
    {
      "cell_type": "markdown",
      "metadata": {
        "id": "CkGbZxl9GZs-"
      },
      "source": [
        "Let's look at the true labels and predicted ones."
      ]
    },
    {
      "cell_type": "code",
      "metadata": {
        "id": "nL9IhOmGI5dJ",
        "colab": {
          "base_uri": "https://localhost:8080/"
        },
        "outputId": "b5b9da50-f526-461e-86a8-877263db4010"
      },
      "source": [
        "print(\"Labels: \", label_batch)\n",
        "print(\"Predicted labels: \", predicted_ids)"
      ],
      "execution_count": null,
      "outputs": [
        {
          "output_type": "stream",
          "name": "stdout",
          "text": [
            "Labels:  [1 1 0 1 1 0 0 1 1 1]\n",
            "Predicted labels:  [1 1 0 1 1 0 0 1 1 1]\n"
          ]
        }
      ]
    },
    {
      "cell_type": "code",
      "metadata": {
        "id": "wC_AYRJU9NQe",
        "colab": {
          "base_uri": "https://localhost:8080/",
          "height": 249
        },
        "outputId": "275e58ce-fc44-4ec6-f5e2-2176558ab608"
      },
      "source": [
        "plt.figure(figsize=(10,9))\n",
        "for n in range(10):\n",
        "  plt.subplot(6,5,n+1)\n",
        "  plt.imshow(image_batch[n])\n",
        "  color = \"blue\" if predicted_ids[n] == label_batch[n] else \"red\"\n",
        "  plt.title(predicted_class_names[n].title(), color=color)\n",
        "  plt.axis('off')\n",
        "_ = plt.suptitle(\"Model predictions (blue: correct, red: incorrect)\")"
      ],
      "execution_count": null,
      "outputs": [
        {
          "output_type": "display_data",
          "data": {
            "image/png": "[encoded data removed]",
            "text/plain": [
              "<Figure size 720x648 with 10 Axes>"
            ]
          },
          "metadata": {
            "needs_background": "light"
          }
        }
      ]
    },
    {
      "cell_type": "markdown",
      "metadata": {
        "id": "kWo0lfYLx-LL"
      },
      "source": [
        "Good results are obtained and all predictions are correct."
      ]
    },
    {
      "cell_type": "markdown",
      "metadata": {
        "id": "5OKoZaAHFH_s"
      },
      "source": [
        "# Export as SavedModel\n"
      ]
    },
    {
      "cell_type": "code",
      "metadata": {
        "id": "LtpeKMfoGXrj",
        "colab": {
          "base_uri": "https://localhost:8080/"
        },
        "outputId": "0e4285bc-4454-4f15-e4ae-099589bbc297"
      },
      "source": [
        "export_path_sm = \"./{}\".format('project5')\n",
        "print(export_path_sm)\n",
        "model.save(export_path_sm)"
      ],
      "execution_count": null,
      "outputs": [
        {
          "output_type": "stream",
          "name": "stdout",
          "text": [
            "./project5\n",
            "INFO:tensorflow:Assets written to: ./project5/assets\n"
          ]
        },
        {
          "output_type": "stream",
          "name": "stderr",
          "text": [
            "INFO:tensorflow:Assets written to: ./project5/assets\n"
          ]
        }
      ]
    },
    {
      "cell_type": "code",
      "metadata": {
        "id": "5h6B1wITlu-9",
        "colab": {
          "base_uri": "https://localhost:8080/"
        },
        "outputId": "5e19d7a9-c020-42d6-9b1e-69ee0e2963bb"
      },
      "source": [
        "!ls {export_path_sm}"
      ],
      "execution_count": null,
      "outputs": [
        {
          "output_type": "stream",
          "name": "stdout",
          "text": [
            "assets\tkeras_metadata.pb  saved_model.pb  variables\n"
          ]
        }
      ]
    },
    {
      "cell_type": "markdown",
      "metadata": {
        "id": "7Nom-ka0yuqB"
      },
      "source": [
        "#Loading the SavedModel as a Keras Model\n"
      ]
    },
    {
      "cell_type": "markdown",
      "metadata": {
        "id": "XUOq8f_Y8Nh-"
      },
      "source": [
        "To be able to get back a full keras model from the Tensorflow SavedModel format we must use the tf.keras.models.load_model function."
      ]
    },
    {
      "cell_type": "code",
      "metadata": {
        "id": "1VPE2_QQGmAP",
        "colab": {
          "base_uri": "https://localhost:8080/"
        },
        "outputId": "e8d89519-8c81-4c40-9f8f-f085480b92c7"
      },
      "source": [
        "reload_sm_keras = tf.keras.models.load_model(\n",
        "  export_path_sm,\n",
        "  custom_objects={'KerasLayer': hub.KerasLayer})\n",
        "\n",
        "reload_sm_keras.summary()"
      ],
      "execution_count": null,
      "outputs": [
        {
          "output_type": "stream",
          "name": "stdout",
          "text": [
            "Model: \"sequential\"\n",
            "_________________________________________________________________\n",
            "Layer (type)                 Output Shape              Param #   \n",
            "=================================================================\n",
            "keras_layer (KerasLayer)     (None, 1000)              7856232   \n",
            "_________________________________________________________________\n",
            "dense (Dense)                (None, 2)                 2002      \n",
            "=================================================================\n",
            "Total params: 7,858,234\n",
            "Trainable params: 2,002\n",
            "Non-trainable params: 7,856,232\n",
            "_________________________________________________________________\n"
          ]
        }
      ]
    },
    {
      "cell_type": "markdown",
      "metadata": {
        "id": "C4owvuy19nBy"
      },
      "source": [
        "#Check that the reloaded KerasModel and the previous model give the same results"
      ]
    },
    {
      "cell_type": "markdown",
      "metadata": {
        "id": "thTbiHE72GL4"
      },
      "source": [
        "Now, let's use the `reloaded_sm)keras` (reloaded Keras model from our SavedModel) to make predictions on a batch of images."
      ]
    },
    {
      "cell_type": "code",
      "metadata": {
        "id": "-0oCJrNLKdKj"
      },
      "source": [
        "result_batch = model.predict(image_batch)\n",
        "reload_sm_keras_result_batch = reload_sm_keras.predict(image_batch)"
      ],
      "execution_count": null,
      "outputs": []
    },
    {
      "cell_type": "markdown",
      "metadata": {
        "id": "jUQaxzFj2Q8k"
      },
      "source": [
        "We can verify that the reloaded Keras model and the previous model give the same result because the difference between them gives us 0.0."
      ]
    },
    {
      "cell_type": "code",
      "metadata": {
        "id": "DJCD9JJxKg9F",
        "colab": {
          "base_uri": "https://localhost:8080/"
        },
        "outputId": "d178cf91-d907-41d1-eb93-46914701d2ea"
      },
      "source": [
        "(abs(result_batch - reload_sm_keras_result_batch)).max()"
      ],
      "execution_count": null,
      "outputs": [
        {
          "output_type": "execute_result",
          "data": {
            "text/plain": [
              "0.0"
            ]
          },
          "metadata": {},
          "execution_count": 18
        }
      ]
    },
    {
      "cell_type": "markdown",
      "metadata": {
        "id": "NFa6jNc4PW9F"
      },
      "source": [
        "#Download model"
      ]
    },
    {
      "cell_type": "code",
      "metadata": {
        "id": "WPRFoU1xPCGF",
        "colab": {
          "base_uri": "https://localhost:8080/"
        },
        "outputId": "fda28285-1a65-4b06-c3d0-479165e271df"
      },
      "source": [
        "!zip -r model.zip {export_path_sm}"
      ],
      "execution_count": null,
      "outputs": [
        {
          "output_type": "stream",
          "name": "stdout",
          "text": [
            "  adding: project5/ (stored 0%)\n",
            "  adding: project5/saved_model.pb (deflated 92%)\n",
            "  adding: project5/keras_metadata.pb (deflated 80%)\n",
            "  adding: project5/variables/ (stored 0%)\n",
            "  adding: project5/variables/variables.data-00000-of-00001 (deflated 8%)\n",
            "  adding: project5/variables/variables.index (deflated 80%)\n",
            "  adding: project5/assets/ (stored 0%)\n"
          ]
        }
      ]
    },
    {
      "cell_type": "markdown",
      "metadata": {
        "id": "MBZL85RsQBTj"
      },
      "source": [
        "I see where it is kept:"
      ]
    },
    {
      "cell_type": "code",
      "metadata": {
        "id": "ALP-DfwSQRL8",
        "colab": {
          "base_uri": "https://localhost:8080/"
        },
        "outputId": "8e047b4d-a3a7-4385-c9d7-929f61a2d40e"
      },
      "source": [
        "!ls"
      ],
      "execution_count": null,
      "outputs": [
        {
          "output_type": "stream",
          "name": "stdout",
          "text": [
            "model.zip  project5  sample_data\n"
          ]
        }
      ]
    },
    {
      "cell_type": "markdown",
      "metadata": {
        "id": "IR89aU-SRmsL"
      },
      "source": [
        "I download to local disk."
      ]
    },
    {
      "cell_type": "code",
      "metadata": {
        "id": "lOXYrlDkNjKQ",
        "colab": {
          "base_uri": "https://localhost:8080/",
          "height": 34
        },
        "outputId": "f896d45d-b0df-44ea-856f-13855f4514db"
      },
      "source": [
        "try:\n",
        "  from google.colab import files\n",
        "  files.download('./model.zip')\n",
        "except ImportError:\n",
        "  pass"
      ],
      "execution_count": null,
      "outputs": [
        {
          "output_type": "display_data",
          "data": {
            "application/javascript": [
              "\n",
              "    async function download(id, filename, size) {\n",
              "      if (!google.colab.kernel.accessAllowed) {\n",
              "        return;\n",
              "      }\n",
              "      const div = document.createElement('div');\n",
              "      const label = document.createElement('label');\n",
              "      label.textContent = `Downloading \"${filename}\": `;\n",
              "      div.appendChild(label);\n",
              "      const progress = document.createElement('progress');\n",
              "      progress.max = size;\n",
              "      div.appendChild(progress);\n",
              "      document.body.appendChild(div);\n",
              "\n",
              "      const buffers = [];\n",
              "      let downloaded = 0;\n",
              "\n",
              "      const channel = await google.colab.kernel.comms.open(id);\n",
              "      // Send a message to notify the kernel that we're ready.\n",
              "      channel.send({})\n",
              "\n",
              "      for await (const message of channel.messages) {\n",
              "        // Send a message to notify the kernel that we're ready.\n",
              "        channel.send({})\n",
              "        if (message.buffers) {\n",
              "          for (const buffer of message.buffers) {\n",
              "            buffers.push(buffer);\n",
              "            downloaded += buffer.byteLength;\n",
              "            progress.value = downloaded;\n",
              "          }\n",
              "        }\n",
              "      }\n",
              "      const blob = new Blob(buffers, {type: 'application/binary'});\n",
              "      const a = document.createElement('a');\n",
              "      a.href = window.URL.createObjectURL(blob);\n",
              "      a.download = filename;\n",
              "      div.appendChild(a);\n",
              "      a.click();\n",
              "      div.remove();\n",
              "    }\n",
              "  "
            ],
            "text/plain": [
              "<IPython.core.display.Javascript object>"
            ]
          },
          "metadata": {}
        },
        {
          "output_type": "display_data",
          "data": {
            "application/javascript": [
              "download(\"download_f6b8a95a-c06f-42bb-83e3-de3a8d559d71\", \"model.zip\", 29262023)"
            ],
            "text/plain": [
              "<IPython.core.display.Javascript object>"
            ]
          },
          "metadata": {}
        }
      ]
    }
  ]
}